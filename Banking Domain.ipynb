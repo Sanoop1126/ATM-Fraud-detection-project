{
 "cells": [
  {
   "cell_type": "code",
   "execution_count": 1,
   "id": "4853788b-3607-4d4c-8462-8b92747c4025",
   "metadata": {},
   "outputs": [],
   "source": [
    "import os\n",
    "import numpy as np\n",
    "import pandas as pd\n",
    "import matplotlib.pyplot as plt\n",
    "import seaborn as sns\n",
    "sns.set()\n",
    "%matplotlib inline\n",
    "import warnings\n",
    "warnings.filterwarnings(\"ignore\")\n",
    "import sklearn\n",
    "from sklearn.model_selection import train_test_split"
   ]
  },
  {
   "attachments": {
    "a0f8d8fb-fa98-4b42-970f-297f78e2773f.png": {
     "image/png": "[encoded data removed]"
    }
   },
   "cell_type": "markdown",
   "id": "e94af967-8bdf-4150-b6fc-1d844f0dc897",
   "metadata": {},
   "source": [
    "![image.png](attachment:a0f8d8fb-fa98-4b42-970f-297f78e2773f.png)"
   ]
  },
  {
   "cell_type": "code",
   "execution_count": 3,
   "id": "e93febaa-a0d4-4660-8317-4114799ed20f",
   "metadata": {},
   "outputs": [],
   "source": [
    "geo = pd.read_csv(\"Geo_scores.csv\")\n",
    "instance = pd.read_csv(\"instance_scores.csv\")\n",
    "lmbda = pd.read_csv(\"Lambda_wts.csv\")\n",
    "qset = pd.read_csv(\"Qset_tats.csv\")\n",
    "test = pd.read_csv(\"test_share.csv\")\n",
    "train = pd.read_csv(\"train.csv\")"
   ]
  },
  {
   "cell_type": "code",
   "execution_count": 4,
   "id": "2d826384-57e5-4bc5-abbb-13d21bf44f24",
   "metadata": {},
   "outputs": [
    {
     "name": "stdout",
     "output_type": "stream",
     "text": [
      "(1424035, 2)\n",
      "******************\n",
      "(1424035, 2)\n",
      "******************\n",
      "(1400, 2)\n",
      "******************\n",
      "(1424035, 2)\n",
      "******************\n",
      "(56962, 27)\n",
      "******************\n",
      "(227845, 28)\n",
      "******************\n"
     ]
    }
   ],
   "source": [
    "print(geo.shape)\n",
    "print(\"******************\")\n",
    "print(instance.shape)\n",
    "print(\"******************\")\n",
    "print(lmbda.shape)\n",
    "print(\"******************\")\n",
    "print(qset.shape)\n",
    "print(\"******************\")\n",
    "print(test.shape)\n",
    "print(\"******************\")\n",
    "print(train.shape)\n",
    "print(\"******************\")"
   ]
  },
  {
   "cell_type": "code",
   "execution_count": 5,
   "id": "796689b4-a125-408b-8cc2-e75211614517",
   "metadata": {},
   "outputs": [
    {
     "name": "stdout",
     "output_type": "stream",
     "text": [
      "<class 'pandas.core.frame.DataFrame'>\n",
      "RangeIndex: 1424035 entries, 0 to 1424034\n",
      "Data columns (total 2 columns):\n",
      " #   Column     Non-Null Count    Dtype  \n",
      "---  ------     --------------    -----  \n",
      " 0   id         1424035 non-null  int64  \n",
      " 1   geo_score  1352492 non-null  float64\n",
      "dtypes: float64(1), int64(1)\n",
      "memory usage: 21.7 MB\n",
      "None\n",
      "******************\n",
      "<class 'pandas.core.frame.DataFrame'>\n",
      "RangeIndex: 1424035 entries, 0 to 1424034\n",
      "Data columns (total 2 columns):\n",
      " #   Column           Non-Null Count    Dtype  \n",
      "---  ------           --------------    -----  \n",
      " 0   id               1424035 non-null  int64  \n",
      " 1   instance_scores  1424035 non-null  float64\n",
      "dtypes: float64(1), int64(1)\n",
      "memory usage: 21.7 MB\n",
      "None\n",
      "******************\n",
      "<class 'pandas.core.frame.DataFrame'>\n",
      "RangeIndex: 1400 entries, 0 to 1399\n",
      "Data columns (total 2 columns):\n",
      " #   Column     Non-Null Count  Dtype  \n",
      "---  ------     --------------  -----  \n",
      " 0   Group      1400 non-null   object \n",
      " 1   lambda_wt  1400 non-null   float64\n",
      "dtypes: float64(1), object(1)\n",
      "memory usage: 22.0+ KB\n",
      "None\n",
      "******************\n",
      "<class 'pandas.core.frame.DataFrame'>\n",
      "RangeIndex: 1424035 entries, 0 to 1424034\n",
      "Data columns (total 2 columns):\n",
      " #   Column                Non-Null Count    Dtype  \n",
      "---  ------                --------------    -----  \n",
      " 0   id                    1424035 non-null  int64  \n",
      " 1   qsets_normalized_tat  1320834 non-null  float64\n",
      "dtypes: float64(1), int64(1)\n",
      "memory usage: 21.7 MB\n",
      "None\n",
      "******************\n",
      "<class 'pandas.core.frame.DataFrame'>\n",
      "RangeIndex: 56962 entries, 0 to 56961\n",
      "Data columns (total 27 columns):\n",
      " #   Column          Non-Null Count  Dtype  \n",
      "---  ------          --------------  -----  \n",
      " 0   id              56962 non-null  int64  \n",
      " 1   Group           56962 non-null  object \n",
      " 2   Per1            56962 non-null  float64\n",
      " 3   Per2            56962 non-null  float64\n",
      " 4   Per3            56962 non-null  float64\n",
      " 5   Per4            56962 non-null  float64\n",
      " 6   Per5            56962 non-null  float64\n",
      " 7   Per6            56962 non-null  float64\n",
      " 8   Per7            56962 non-null  float64\n",
      " 9   Per8            56962 non-null  float64\n",
      " 10  Per9            56962 non-null  float64\n",
      " 11  Dem1            56962 non-null  float64\n",
      " 12  Dem2            56962 non-null  float64\n",
      " 13  Dem3            56962 non-null  float64\n",
      " 14  Dem4            56962 non-null  float64\n",
      " 15  Dem5            56962 non-null  float64\n",
      " 16  Dem6            56962 non-null  float64\n",
      " 17  Dem7            56962 non-null  float64\n",
      " 18  Dem8            56962 non-null  float64\n",
      " 19  Dem9            56962 non-null  float64\n",
      " 20  Cred1           56962 non-null  float64\n",
      " 21  Cred2           56962 non-null  float64\n",
      " 22  Cred3           56962 non-null  float64\n",
      " 23  Cred4           56962 non-null  float64\n",
      " 24  Cred5           56962 non-null  float64\n",
      " 25  Cred6           56962 non-null  float64\n",
      " 26  Normalised_FNT  56962 non-null  float64\n",
      "dtypes: float64(25), int64(1), object(1)\n",
      "memory usage: 11.7+ MB\n",
      "None\n",
      "******************\n",
      "<class 'pandas.core.frame.DataFrame'>\n",
      "RangeIndex: 227845 entries, 0 to 227844\n",
      "Data columns (total 28 columns):\n",
      " #   Column          Non-Null Count   Dtype  \n",
      "---  ------          --------------   -----  \n",
      " 0   id              227845 non-null  int64  \n",
      " 1   Group           227845 non-null  object \n",
      " 2   Per1            227845 non-null  float64\n",
      " 3   Per2            227845 non-null  float64\n",
      " 4   Per3            227845 non-null  float64\n",
      " 5   Per4            227845 non-null  float64\n",
      " 6   Per5            227845 non-null  float64\n",
      " 7   Per6            227845 non-null  float64\n",
      " 8   Per7            227845 non-null  float64\n",
      " 9   Per8            227845 non-null  float64\n",
      " 10  Per9            227845 non-null  float64\n",
      " 11  Dem1            227845 non-null  float64\n",
      " 12  Dem2            227845 non-null  float64\n",
      " 13  Dem3            227845 non-null  float64\n",
      " 14  Dem4            227845 non-null  float64\n",
      " 15  Dem5            227845 non-null  float64\n",
      " 16  Dem6            227845 non-null  float64\n",
      " 17  Dem7            227845 non-null  float64\n",
      " 18  Dem8            227845 non-null  float64\n",
      " 19  Dem9            227845 non-null  float64\n",
      " 20  Cred1           227845 non-null  float64\n",
      " 21  Cred2           227845 non-null  float64\n",
      " 22  Cred3           227845 non-null  float64\n",
      " 23  Cred4           227845 non-null  float64\n",
      " 24  Cred5           227845 non-null  float64\n",
      " 25  Cred6           227845 non-null  float64\n",
      " 26  Normalised_FNT  227845 non-null  float64\n",
      " 27  Target          227845 non-null  int64  \n",
      "dtypes: float64(25), int64(2), object(1)\n",
      "memory usage: 48.7+ MB\n",
      "None\n",
      "******************\n"
     ]
    }
   ],
   "source": [
    "print(geo.info())\n",
    "print(\"******************\")\n",
    "print(instance.info())\n",
    "print(\"******************\")\n",
    "print(lmbda.info())\n",
    "print(\"******************\")\n",
    "print(qset.info())\n",
    "print(\"******************\")\n",
    "print(test.info())\n",
    "print(\"******************\")\n",
    "print(train.info())\n",
    "print(\"******************\")"
   ]
  },
  {
   "cell_type": "code",
   "execution_count": 6,
   "id": "4cf80117-1d3a-4c9d-96df-1f5b941fb067",
   "metadata": {},
   "outputs": [
    {
     "name": "stdout",
     "output_type": "stream",
     "text": [
      "id               0\n",
      "geo_score    71543\n",
      "dtype: int64\n",
      "******************\n",
      "id                 0\n",
      "instance_scores    0\n",
      "dtype: int64\n",
      "******************\n",
      "Group        0\n",
      "lambda_wt    0\n",
      "dtype: int64\n",
      "******************\n",
      "id                           0\n",
      "qsets_normalized_tat    103201\n",
      "dtype: int64\n",
      "******************\n",
      "id                0\n",
      "Group             0\n",
      "Per1              0\n",
      "Per2              0\n",
      "Per3              0\n",
      "Per4              0\n",
      "Per5              0\n",
      "Per6              0\n",
      "Per7              0\n",
      "Per8              0\n",
      "Per9              0\n",
      "Dem1              0\n",
      "Dem2              0\n",
      "Dem3              0\n",
      "Dem4              0\n",
      "Dem5              0\n",
      "Dem6              0\n",
      "Dem7              0\n",
      "Dem8              0\n",
      "Dem9              0\n",
      "Cred1             0\n",
      "Cred2             0\n",
      "Cred3             0\n",
      "Cred4             0\n",
      "Cred5             0\n",
      "Cred6             0\n",
      "Normalised_FNT    0\n",
      "dtype: int64\n",
      "******************\n",
      "id                0\n",
      "Group             0\n",
      "Per1              0\n",
      "Per2              0\n",
      "Per3              0\n",
      "Per4              0\n",
      "Per5              0\n",
      "Per6              0\n",
      "Per7              0\n",
      "Per8              0\n",
      "Per9              0\n",
      "Dem1              0\n",
      "Dem2              0\n",
      "Dem3              0\n",
      "Dem4              0\n",
      "Dem5              0\n",
      "Dem6              0\n",
      "Dem7              0\n",
      "Dem8              0\n",
      "Dem9              0\n",
      "Cred1             0\n",
      "Cred2             0\n",
      "Cred3             0\n",
      "Cred4             0\n",
      "Cred5             0\n",
      "Cred6             0\n",
      "Normalised_FNT    0\n",
      "Target            0\n",
      "dtype: int64\n",
      "******************\n"
     ]
    }
   ],
   "source": [
    "print(geo.isnull().sum())\n",
    "print(\"******************\")\n",
    "print(instance.isnull().sum())\n",
    "print(\"******************\")\n",
    "print(lmbda.isnull().sum())\n",
    "print(\"******************\")\n",
    "print(qset.isnull().sum())\n",
    "print(\"******************\")\n",
    "print(test.isnull().sum())\n",
    "print(\"******************\")\n",
    "print(train.isnull().sum())\n",
    "print(\"******************\")"
   ]
  },
  {
   "cell_type": "code",
   "execution_count": 7,
   "id": "a047289e-f7f3-479e-a23c-9ccec73a4a0d",
   "metadata": {},
   "outputs": [
    {
     "name": "stdout",
     "output_type": "stream",
     "text": [
      "       id  geo_score\n",
      "0   26674       4.48\n",
      "1  204314       4.48\n",
      "******************\n",
      "       id  instance_scores\n",
      "0  173444            -0.88\n",
      "1  259378             1.50\n",
      "******************\n",
      "    Group  lambda_wt\n",
      "0  Grp936       3.41\n",
      "1  Grp347      -2.88\n",
      "******************\n",
      "       id  qsets_normalized_tat\n",
      "0    9983                  2.41\n",
      "1  266000                  3.10\n",
      "******************\n",
      "       id   Group      Per1      Per2  Per3      Per4  Per5      Per6  Per7  \\\n",
      "0  146574  Grp229 -0.300000  1.540000  0.22 -0.280000  0.57  0.260000  0.70   \n",
      "1  268759  Grp141  0.633333  0.953333  0.81  0.466667  0.91  0.253333  1.04   \n",
      "\n",
      "       Per8  ...      Dem7      Dem8      Dem9     Cred1     Cred2     Cred3  \\\n",
      "0  1.076667  ...  0.786667  0.546667  0.313333  0.703333  0.813333  0.776667   \n",
      "1  0.550000  ...  0.636667  0.770000  0.993333  0.536667  0.703333  0.806667   \n",
      "\n",
      "      Cred4     Cred5     Cred6  Normalised_FNT  \n",
      "0  0.796667  0.823333  0.783333       -249.7500  \n",
      "1  0.630000  0.673333  0.673333       -249.8125  \n",
      "\n",
      "[2 rows x 27 columns]\n",
      "******************\n",
      "       id   Group      Per1      Per2      Per3      Per4      Per5      Per6  \\\n",
      "0  112751  Grp169  1.070000  0.580000  0.480000  0.766667  1.233333  1.993333   \n",
      "1   18495  Grp161  0.473333  1.206667  0.883333  1.430000  0.726667  0.626667   \n",
      "\n",
      "   Per7      Per8  ...      Dem8      Dem9     Cred1  Cred2     Cred3  \\\n",
      "0  0.34  1.010000  ...  0.680000  0.726667  0.606667   1.01  0.933333   \n",
      "1  0.81  0.783333  ...  0.716667  0.743333  0.680000   0.69  0.560000   \n",
      "\n",
      "      Cred4     Cred5     Cred6  Normalised_FNT  Target  \n",
      "0  0.603333  0.686667  0.673333         -245.75       0  \n",
      "1  0.670000  0.553333  0.653333         -248.00       0  \n",
      "\n",
      "[2 rows x 28 columns]\n",
      "******************\n"
     ]
    }
   ],
   "source": [
    "print(geo.head(2))\n",
    "print(\"******************\")\n",
    "print(instance.head(2))\n",
    "print(\"******************\")\n",
    "print(lmbda.head(2))\n",
    "print(\"******************\")\n",
    "print(qset.head(2))\n",
    "print(\"******************\")\n",
    "print(test.head(2))\n",
    "print(\"******************\")\n",
    "print(train.head(2))\n",
    "print(\"******************\")"
   ]
  },
  {
   "cell_type": "code",
   "execution_count": 8,
   "id": "f7dba486-e2d8-431e-b88f-a12d8ce57ae7",
   "metadata": {},
   "outputs": [
    {
     "name": "stdout",
     "output_type": "stream",
     "text": [
      "*******************Unique ID to the customer****************\n",
      "geo 284807\n",
      "******************\n",
      "instance 284807\n",
      "******************\n",
      "qset 284807\n",
      "******************\n",
      "test 56962\n",
      "******************\n",
      "train 227845\n",
      "******************\n",
      "*******************Unique Group to the customer****************\n",
      "******************\n",
      "lmbda 1400\n",
      "******************\n",
      "test 915\n",
      "******************\n",
      "train 1301\n",
      "******************\n"
     ]
    }
   ],
   "source": [
    "print(\"*******************Unique ID to the customer****************\")\n",
    "print(\"geo\",geo['id'].nunique())\n",
    "print(\"******************\")\n",
    "print(\"instance\", instance['id'].nunique())\n",
    "print(\"******************\")\n",
    "print(\"qset\",qset['id'].nunique())\n",
    "print(\"******************\")\n",
    "print(\"test\", test['id'].nunique())\n",
    "print(\"******************\")\n",
    "print(\"train\",train['id'].nunique())\n",
    "print(\"******************\")\n",
    "print(\"*******************Unique Group to the customer****************\")\n",
    "print(\"******************\")\n",
    "print(\"lmbda\",lmbda['Group'].nunique())\n",
    "print(\"******************\")\n",
    "print(\"test\",test['Group'].nunique())\n",
    "print(\"******************\")\n",
    "print(\"train\",train['Group'].nunique())\n",
    "print(\"******************\")"
   ]
  },
  {
   "cell_type": "code",
   "execution_count": 9,
   "id": "7cd20ccb-f818-4736-8b17-106edb9333bf",
   "metadata": {},
   "outputs": [
    {
     "data": {
      "text/plain": [
       "284807"
      ]
     },
     "execution_count": 9,
     "metadata": {},
     "output_type": "execute_result"
    }
   ],
   "source": [
    "#test 56962\n",
    "#******************\n",
    "#train 227845\n",
    "\n",
    "56962 + 227845"
   ]
  },
  {
   "cell_type": "code",
   "execution_count": 10,
   "id": "00e32f40-34d7-4e6b-9296-9d9c604cd1c7",
   "metadata": {},
   "outputs": [
    {
     "name": "stdout",
     "output_type": "stream",
     "text": [
      "id           0.000000\n",
      "geo_score    5.023964\n",
      "dtype: float64\n",
      "******************\n",
      "id                      0.000000\n",
      "qsets_normalized_tat    7.247083\n",
      "dtype: float64\n"
     ]
    }
   ],
   "source": [
    "print(geo.isnull().sum()/len(geo)*100)\n",
    "print(\"******************\")\n",
    "print(qset.isnull().sum()/len(qset)*100)"
   ]
  },
  {
   "cell_type": "code",
   "execution_count": 11,
   "id": "9bb3759b-607d-4020-9b4b-d2c09a7152f1",
   "metadata": {},
   "outputs": [
    {
     "name": "stdout",
     "output_type": "stream",
     "text": [
      "<class 'pandas.core.frame.DataFrame'>\n",
      "RangeIndex: 1424035 entries, 0 to 1424034\n",
      "Data columns (total 2 columns):\n",
      " #   Column     Non-Null Count    Dtype  \n",
      "---  ------     --------------    -----  \n",
      " 0   id         1424035 non-null  int64  \n",
      " 1   geo_score  1352492 non-null  float64\n",
      "dtypes: float64(1), int64(1)\n",
      "memory usage: 21.7 MB\n"
     ]
    }
   ],
   "source": [
    "geo.info()"
   ]
  },
  {
   "cell_type": "code",
   "execution_count": 12,
   "id": "8ed7af34-1256-4b25-978e-6b1806f80c98",
   "metadata": {},
   "outputs": [
    {
     "data": {
      "text/plain": [
       "<Axes: ylabel='geo_score'>"
      ]
     },
     "execution_count": 12,
     "metadata": {},
     "output_type": "execute_result"
    },
    {
     "data": {
      "image/png": "[encoded data removed]",
      "text/plain": [
       "<Figure size 640x480 with 1 Axes>"
      ]
     },
     "metadata": {},
     "output_type": "display_data"
    }
   ],
   "source": [
    "sns.boxplot(y='geo_score', data=geo)"
   ]
  },
  {
   "cell_type": "code",
   "execution_count": 13,
   "id": "19a32f96-2519-474d-9d87-192d9938b172",
   "metadata": {},
   "outputs": [
    {
     "name": "stdout",
     "output_type": "stream",
     "text": [
      "<class 'pandas.core.frame.DataFrame'>\n",
      "RangeIndex: 1424035 entries, 0 to 1424034\n",
      "Data columns (total 2 columns):\n",
      " #   Column                Non-Null Count    Dtype  \n",
      "---  ------                --------------    -----  \n",
      " 0   id                    1424035 non-null  int64  \n",
      " 1   qsets_normalized_tat  1320834 non-null  float64\n",
      "dtypes: float64(1), int64(1)\n",
      "memory usage: 21.7 MB\n"
     ]
    }
   ],
   "source": [
    "qset.info()"
   ]
  },
  {
   "cell_type": "code",
   "execution_count": 14,
   "id": "bd05fae8-9a81-414e-85d7-f7d8298a192b",
   "metadata": {},
   "outputs": [
    {
     "data": {
      "text/plain": [
       "<Axes: ylabel='qsets_normalized_tat'>"
      ]
     },
     "execution_count": 14,
     "metadata": {},
     "output_type": "execute_result"
    },
    {
     "data": {
      "image/png": "[encoded data removed]",
      "text/plain": [
       "<Figure size 640x480 with 1 Axes>"
      ]
     },
     "metadata": {},
     "output_type": "display_data"
    }
   ],
   "source": [
    "sns.boxplot(y=\"qsets_normalized_tat\", data=qset)"
   ]
  },
  {
   "cell_type": "code",
   "execution_count": 15,
   "id": "871d4676-3bab-4bf7-9712-c71e52f27ab2",
   "metadata": {},
   "outputs": [],
   "source": [
    "geo['geo_score'] = geo['geo_score'].fillna(geo['geo_score'].median())\n",
    "qset['qsets_normalized_tat'] = qset['qsets_normalized_tat'].fillna(qset['qsets_normalized_tat'].median())"
   ]
  },
  {
   "cell_type": "code",
   "execution_count": 16,
   "id": "9ed82b3a-c8bc-4343-bb64-5977c2f6b7a2",
   "metadata": {},
   "outputs": [
    {
     "name": "stdout",
     "output_type": "stream",
     "text": [
      "id           0.0\n",
      "geo_score    0.0\n",
      "dtype: float64\n",
      "******************\n",
      "id                      0.0\n",
      "qsets_normalized_tat    0.0\n",
      "dtype: float64\n"
     ]
    }
   ],
   "source": [
    "print(geo.isnull().sum()/len(geo)*100)\n",
    "print(\"******************\")\n",
    "print(qset.isnull().sum()/len(qset)*100)"
   ]
  },
  {
   "cell_type": "code",
   "execution_count": 17,
   "id": "9a2f75b5-ef83-4b98-991d-7c931303af86",
   "metadata": {},
   "outputs": [
    {
     "data": {
      "text/html": [
       "<div>\n",
       "<style scoped>\n",
       "    .dataframe tbody tr th:only-of-type {\n",
       "        vertical-align: middle;\n",
       "    }\n",
       "\n",
       "    .dataframe tbody tr th {\n",
       "        vertical-align: top;\n",
       "    }\n",
       "\n",
       "    .dataframe thead th {\n",
       "        text-align: right;\n",
       "    }\n",
       "</style>\n",
       "<table border=\"1\" class=\"dataframe\">\n",
       "  <thead>\n",
       "    <tr style=\"text-align: right;\">\n",
       "      <th></th>\n",
       "      <th>id</th>\n",
       "      <th>geo_score</th>\n",
       "    </tr>\n",
       "  </thead>\n",
       "  <tbody>\n",
       "    <tr>\n",
       "      <th>count</th>\n",
       "      <td>1.424035e+06</td>\n",
       "      <td>1.424035e+06</td>\n",
       "    </tr>\n",
       "    <tr>\n",
       "      <th>mean</th>\n",
       "      <td>1.424030e+05</td>\n",
       "      <td>9.034321e-03</td>\n",
       "    </tr>\n",
       "    <tr>\n",
       "      <th>std</th>\n",
       "      <td>8.221673e+04</td>\n",
       "      <td>7.628149e+00</td>\n",
       "    </tr>\n",
       "    <tr>\n",
       "      <th>min</th>\n",
       "      <td>0.000000e+00</td>\n",
       "      <td>-1.093900e+02</td>\n",
       "    </tr>\n",
       "    <tr>\n",
       "      <th>25%</th>\n",
       "      <td>7.120100e+04</td>\n",
       "      <td>-5.170000e+00</td>\n",
       "    </tr>\n",
       "    <tr>\n",
       "      <th>50%</th>\n",
       "      <td>1.424030e+05</td>\n",
       "      <td>1.800000e-01</td>\n",
       "    </tr>\n",
       "    <tr>\n",
       "      <th>75%</th>\n",
       "      <td>2.136050e+05</td>\n",
       "      <td>5.170000e+00</td>\n",
       "    </tr>\n",
       "    <tr>\n",
       "      <th>max</th>\n",
       "      <td>2.848060e+05</td>\n",
       "      <td>4.581000e+01</td>\n",
       "    </tr>\n",
       "  </tbody>\n",
       "</table>\n",
       "</div>"
      ],
      "text/plain": [
       "                 id     geo_score\n",
       "count  1.424035e+06  1.424035e+06\n",
       "mean   1.424030e+05  9.034321e-03\n",
       "std    8.221673e+04  7.628149e+00\n",
       "min    0.000000e+00 -1.093900e+02\n",
       "25%    7.120100e+04 -5.170000e+00\n",
       "50%    1.424030e+05  1.800000e-01\n",
       "75%    2.136050e+05  5.170000e+00\n",
       "max    2.848060e+05  4.581000e+01"
      ]
     },
     "execution_count": 17,
     "metadata": {},
     "output_type": "execute_result"
    }
   ],
   "source": [
    "geo.describe()"
   ]
  },
  {
   "cell_type": "code",
   "execution_count": 18,
   "id": "ed1a3ace-098a-4076-943a-b4a89ebeadb8",
   "metadata": {},
   "outputs": [
    {
     "data": {
      "text/html": [
       "<div>\n",
       "<style scoped>\n",
       "    .dataframe tbody tr th:only-of-type {\n",
       "        vertical-align: middle;\n",
       "    }\n",
       "\n",
       "    .dataframe tbody tr th {\n",
       "        vertical-align: top;\n",
       "    }\n",
       "\n",
       "    .dataframe thead th {\n",
       "        text-align: right;\n",
       "    }\n",
       "</style>\n",
       "<table border=\"1\" class=\"dataframe\">\n",
       "  <thead>\n",
       "    <tr style=\"text-align: right;\">\n",
       "      <th></th>\n",
       "      <th>id</th>\n",
       "      <th>Group</th>\n",
       "      <th>Per1</th>\n",
       "      <th>Per2</th>\n",
       "      <th>Per3</th>\n",
       "      <th>Per4</th>\n",
       "      <th>Per5</th>\n",
       "      <th>Per6</th>\n",
       "      <th>Per7</th>\n",
       "      <th>Per8</th>\n",
       "      <th>...</th>\n",
       "      <th>Dem7</th>\n",
       "      <th>Dem8</th>\n",
       "      <th>Dem9</th>\n",
       "      <th>Cred1</th>\n",
       "      <th>Cred2</th>\n",
       "      <th>Cred3</th>\n",
       "      <th>Cred4</th>\n",
       "      <th>Cred5</th>\n",
       "      <th>Cred6</th>\n",
       "      <th>Normalised_FNT</th>\n",
       "    </tr>\n",
       "  </thead>\n",
       "  <tbody>\n",
       "    <tr>\n",
       "      <th>0</th>\n",
       "      <td>146574</td>\n",
       "      <td>Grp229</td>\n",
       "      <td>-0.300000</td>\n",
       "      <td>1.540000</td>\n",
       "      <td>0.22</td>\n",
       "      <td>-0.280000</td>\n",
       "      <td>0.57</td>\n",
       "      <td>0.260000</td>\n",
       "      <td>0.70</td>\n",
       "      <td>1.076667</td>\n",
       "      <td>...</td>\n",
       "      <td>0.786667</td>\n",
       "      <td>0.546667</td>\n",
       "      <td>0.313333</td>\n",
       "      <td>0.703333</td>\n",
       "      <td>0.813333</td>\n",
       "      <td>0.776667</td>\n",
       "      <td>0.796667</td>\n",
       "      <td>0.823333</td>\n",
       "      <td>0.783333</td>\n",
       "      <td>-249.7500</td>\n",
       "    </tr>\n",
       "    <tr>\n",
       "      <th>1</th>\n",
       "      <td>268759</td>\n",
       "      <td>Grp141</td>\n",
       "      <td>0.633333</td>\n",
       "      <td>0.953333</td>\n",
       "      <td>0.81</td>\n",
       "      <td>0.466667</td>\n",
       "      <td>0.91</td>\n",
       "      <td>0.253333</td>\n",
       "      <td>1.04</td>\n",
       "      <td>0.550000</td>\n",
       "      <td>...</td>\n",
       "      <td>0.636667</td>\n",
       "      <td>0.770000</td>\n",
       "      <td>0.993333</td>\n",
       "      <td>0.536667</td>\n",
       "      <td>0.703333</td>\n",
       "      <td>0.806667</td>\n",
       "      <td>0.630000</td>\n",
       "      <td>0.673333</td>\n",
       "      <td>0.673333</td>\n",
       "      <td>-249.8125</td>\n",
       "    </tr>\n",
       "  </tbody>\n",
       "</table>\n",
       "<p>2 rows × 27 columns</p>\n",
       "</div>"
      ],
      "text/plain": [
       "       id   Group      Per1      Per2  Per3      Per4  Per5      Per6  Per7  \\\n",
       "0  146574  Grp229 -0.300000  1.540000  0.22 -0.280000  0.57  0.260000  0.70   \n",
       "1  268759  Grp141  0.633333  0.953333  0.81  0.466667  0.91  0.253333  1.04   \n",
       "\n",
       "       Per8  ...      Dem7      Dem8      Dem9     Cred1     Cred2     Cred3  \\\n",
       "0  1.076667  ...  0.786667  0.546667  0.313333  0.703333  0.813333  0.776667   \n",
       "1  0.550000  ...  0.636667  0.770000  0.993333  0.536667  0.703333  0.806667   \n",
       "\n",
       "      Cred4     Cred5     Cred6  Normalised_FNT  \n",
       "0  0.796667  0.823333  0.783333       -249.7500  \n",
       "1  0.630000  0.673333  0.673333       -249.8125  \n",
       "\n",
       "[2 rows x 27 columns]"
      ]
     },
     "execution_count": 18,
     "metadata": {},
     "output_type": "execute_result"
    }
   ],
   "source": [
    "test.head(2)"
   ]
  },
  {
   "cell_type": "code",
   "execution_count": 19,
   "id": "b4429a56-8544-4e2c-b49b-ea9154151ebd",
   "metadata": {},
   "outputs": [
    {
     "data": {
      "text/html": [
       "<div>\n",
       "<style scoped>\n",
       "    .dataframe tbody tr th:only-of-type {\n",
       "        vertical-align: middle;\n",
       "    }\n",
       "\n",
       "    .dataframe tbody tr th {\n",
       "        vertical-align: top;\n",
       "    }\n",
       "\n",
       "    .dataframe thead th {\n",
       "        text-align: right;\n",
       "    }\n",
       "</style>\n",
       "<table border=\"1\" class=\"dataframe\">\n",
       "  <thead>\n",
       "    <tr style=\"text-align: right;\">\n",
       "      <th></th>\n",
       "      <th>id</th>\n",
       "      <th>Group</th>\n",
       "      <th>Per1</th>\n",
       "      <th>Per2</th>\n",
       "      <th>Per3</th>\n",
       "      <th>Per4</th>\n",
       "      <th>Per5</th>\n",
       "      <th>Per6</th>\n",
       "      <th>Per7</th>\n",
       "      <th>Per8</th>\n",
       "      <th>...</th>\n",
       "      <th>Dem8</th>\n",
       "      <th>Dem9</th>\n",
       "      <th>Cred1</th>\n",
       "      <th>Cred2</th>\n",
       "      <th>Cred3</th>\n",
       "      <th>Cred4</th>\n",
       "      <th>Cred5</th>\n",
       "      <th>Cred6</th>\n",
       "      <th>Normalised_FNT</th>\n",
       "      <th>Target</th>\n",
       "    </tr>\n",
       "  </thead>\n",
       "  <tbody>\n",
       "    <tr>\n",
       "      <th>0</th>\n",
       "      <td>112751</td>\n",
       "      <td>Grp169</td>\n",
       "      <td>1.070000</td>\n",
       "      <td>0.580000</td>\n",
       "      <td>0.480000</td>\n",
       "      <td>0.766667</td>\n",
       "      <td>1.233333</td>\n",
       "      <td>1.993333</td>\n",
       "      <td>0.34</td>\n",
       "      <td>1.010000</td>\n",
       "      <td>...</td>\n",
       "      <td>0.680000</td>\n",
       "      <td>0.726667</td>\n",
       "      <td>0.606667</td>\n",
       "      <td>1.01</td>\n",
       "      <td>0.933333</td>\n",
       "      <td>0.603333</td>\n",
       "      <td>0.686667</td>\n",
       "      <td>0.673333</td>\n",
       "      <td>-245.75</td>\n",
       "      <td>0</td>\n",
       "    </tr>\n",
       "    <tr>\n",
       "      <th>1</th>\n",
       "      <td>18495</td>\n",
       "      <td>Grp161</td>\n",
       "      <td>0.473333</td>\n",
       "      <td>1.206667</td>\n",
       "      <td>0.883333</td>\n",
       "      <td>1.430000</td>\n",
       "      <td>0.726667</td>\n",
       "      <td>0.626667</td>\n",
       "      <td>0.81</td>\n",
       "      <td>0.783333</td>\n",
       "      <td>...</td>\n",
       "      <td>0.716667</td>\n",
       "      <td>0.743333</td>\n",
       "      <td>0.680000</td>\n",
       "      <td>0.69</td>\n",
       "      <td>0.560000</td>\n",
       "      <td>0.670000</td>\n",
       "      <td>0.553333</td>\n",
       "      <td>0.653333</td>\n",
       "      <td>-248.00</td>\n",
       "      <td>0</td>\n",
       "    </tr>\n",
       "  </tbody>\n",
       "</table>\n",
       "<p>2 rows × 28 columns</p>\n",
       "</div>"
      ],
      "text/plain": [
       "       id   Group      Per1      Per2      Per3      Per4      Per5      Per6  \\\n",
       "0  112751  Grp169  1.070000  0.580000  0.480000  0.766667  1.233333  1.993333   \n",
       "1   18495  Grp161  0.473333  1.206667  0.883333  1.430000  0.726667  0.626667   \n",
       "\n",
       "   Per7      Per8  ...      Dem8      Dem9     Cred1  Cred2     Cred3  \\\n",
       "0  0.34  1.010000  ...  0.680000  0.726667  0.606667   1.01  0.933333   \n",
       "1  0.81  0.783333  ...  0.716667  0.743333  0.680000   0.69  0.560000   \n",
       "\n",
       "      Cred4     Cred5     Cred6  Normalised_FNT  Target  \n",
       "0  0.603333  0.686667  0.673333         -245.75       0  \n",
       "1  0.670000  0.553333  0.653333         -248.00       0  \n",
       "\n",
       "[2 rows x 28 columns]"
      ]
     },
     "execution_count": 19,
     "metadata": {},
     "output_type": "execute_result"
    }
   ],
   "source": [
    "train.head(2)"
   ]
  },
  {
   "cell_type": "code",
   "execution_count": 20,
   "id": "01fabd50-a07b-4b45-8b50-40100c55828d",
   "metadata": {},
   "outputs": [
    {
     "data": {
      "text/plain": [
       "Target\n",
       "0    227451\n",
       "1       394\n",
       "Name: count, dtype: int64"
      ]
     },
     "execution_count": 20,
     "metadata": {},
     "output_type": "execute_result"
    }
   ],
   "source": [
    "train['Target'].value_counts()"
   ]
  },
  {
   "cell_type": "code",
   "execution_count": 21,
   "id": "ee00a6d4-4376-4844-bf27-60231433c3c8",
   "metadata": {},
   "outputs": [],
   "source": [
    "train['data'] = 'train'\n",
    "test['data'] = 'test'"
   ]
  },
  {
   "cell_type": "code",
   "execution_count": 22,
   "id": "3d98d4f5-36e7-4014-ad5a-2387c37f7333",
   "metadata": {},
   "outputs": [
    {
     "data": {
      "text/html": [
       "<div>\n",
       "<style scoped>\n",
       "    .dataframe tbody tr th:only-of-type {\n",
       "        vertical-align: middle;\n",
       "    }\n",
       "\n",
       "    .dataframe tbody tr th {\n",
       "        vertical-align: top;\n",
       "    }\n",
       "\n",
       "    .dataframe thead th {\n",
       "        text-align: right;\n",
       "    }\n",
       "</style>\n",
       "<table border=\"1\" class=\"dataframe\">\n",
       "  <thead>\n",
       "    <tr style=\"text-align: right;\">\n",
       "      <th></th>\n",
       "      <th>id</th>\n",
       "      <th>Group</th>\n",
       "      <th>Per1</th>\n",
       "      <th>Per2</th>\n",
       "      <th>Per3</th>\n",
       "      <th>Per4</th>\n",
       "      <th>Per5</th>\n",
       "      <th>Per6</th>\n",
       "      <th>Per7</th>\n",
       "      <th>Per8</th>\n",
       "      <th>...</th>\n",
       "      <th>Dem9</th>\n",
       "      <th>Cred1</th>\n",
       "      <th>Cred2</th>\n",
       "      <th>Cred3</th>\n",
       "      <th>Cred4</th>\n",
       "      <th>Cred5</th>\n",
       "      <th>Cred6</th>\n",
       "      <th>Normalised_FNT</th>\n",
       "      <th>Target</th>\n",
       "      <th>data</th>\n",
       "    </tr>\n",
       "  </thead>\n",
       "  <tbody>\n",
       "    <tr>\n",
       "      <th>0</th>\n",
       "      <td>112751</td>\n",
       "      <td>Grp169</td>\n",
       "      <td>1.070000</td>\n",
       "      <td>0.580000</td>\n",
       "      <td>0.480000</td>\n",
       "      <td>0.766667</td>\n",
       "      <td>1.233333</td>\n",
       "      <td>1.993333</td>\n",
       "      <td>0.34</td>\n",
       "      <td>1.010000</td>\n",
       "      <td>...</td>\n",
       "      <td>0.726667</td>\n",
       "      <td>0.606667</td>\n",
       "      <td>1.01</td>\n",
       "      <td>0.933333</td>\n",
       "      <td>0.603333</td>\n",
       "      <td>0.686667</td>\n",
       "      <td>0.673333</td>\n",
       "      <td>-245.75</td>\n",
       "      <td>0</td>\n",
       "      <td>train</td>\n",
       "    </tr>\n",
       "    <tr>\n",
       "      <th>1</th>\n",
       "      <td>18495</td>\n",
       "      <td>Grp161</td>\n",
       "      <td>0.473333</td>\n",
       "      <td>1.206667</td>\n",
       "      <td>0.883333</td>\n",
       "      <td>1.430000</td>\n",
       "      <td>0.726667</td>\n",
       "      <td>0.626667</td>\n",
       "      <td>0.81</td>\n",
       "      <td>0.783333</td>\n",
       "      <td>...</td>\n",
       "      <td>0.743333</td>\n",
       "      <td>0.680000</td>\n",
       "      <td>0.69</td>\n",
       "      <td>0.560000</td>\n",
       "      <td>0.670000</td>\n",
       "      <td>0.553333</td>\n",
       "      <td>0.653333</td>\n",
       "      <td>-248.00</td>\n",
       "      <td>0</td>\n",
       "      <td>train</td>\n",
       "    </tr>\n",
       "  </tbody>\n",
       "</table>\n",
       "<p>2 rows × 29 columns</p>\n",
       "</div>"
      ],
      "text/plain": [
       "       id   Group      Per1      Per2      Per3      Per4      Per5      Per6  \\\n",
       "0  112751  Grp169  1.070000  0.580000  0.480000  0.766667  1.233333  1.993333   \n",
       "1   18495  Grp161  0.473333  1.206667  0.883333  1.430000  0.726667  0.626667   \n",
       "\n",
       "   Per7      Per8  ...      Dem9     Cred1  Cred2     Cred3     Cred4  \\\n",
       "0  0.34  1.010000  ...  0.726667  0.606667   1.01  0.933333  0.603333   \n",
       "1  0.81  0.783333  ...  0.743333  0.680000   0.69  0.560000  0.670000   \n",
       "\n",
       "      Cred5     Cred6  Normalised_FNT  Target   data  \n",
       "0  0.686667  0.673333         -245.75       0  train  \n",
       "1  0.553333  0.653333         -248.00       0  train  \n",
       "\n",
       "[2 rows x 29 columns]"
      ]
     },
     "execution_count": 22,
     "metadata": {},
     "output_type": "execute_result"
    }
   ],
   "source": [
    "train.head(2)"
   ]
  },
  {
   "cell_type": "code",
   "execution_count": 23,
   "id": "7a769293-5ef4-456e-a8cf-c3c38f783cb1",
   "metadata": {},
   "outputs": [
    {
     "data": {
      "text/html": [
       "<div>\n",
       "<style scoped>\n",
       "    .dataframe tbody tr th:only-of-type {\n",
       "        vertical-align: middle;\n",
       "    }\n",
       "\n",
       "    .dataframe tbody tr th {\n",
       "        vertical-align: top;\n",
       "    }\n",
       "\n",
       "    .dataframe thead th {\n",
       "        text-align: right;\n",
       "    }\n",
       "</style>\n",
       "<table border=\"1\" class=\"dataframe\">\n",
       "  <thead>\n",
       "    <tr style=\"text-align: right;\">\n",
       "      <th></th>\n",
       "      <th>id</th>\n",
       "      <th>Group</th>\n",
       "      <th>Per1</th>\n",
       "      <th>Per2</th>\n",
       "      <th>Per3</th>\n",
       "      <th>Per4</th>\n",
       "      <th>Per5</th>\n",
       "      <th>Per6</th>\n",
       "      <th>Per7</th>\n",
       "      <th>Per8</th>\n",
       "      <th>...</th>\n",
       "      <th>Dem8</th>\n",
       "      <th>Dem9</th>\n",
       "      <th>Cred1</th>\n",
       "      <th>Cred2</th>\n",
       "      <th>Cred3</th>\n",
       "      <th>Cred4</th>\n",
       "      <th>Cred5</th>\n",
       "      <th>Cred6</th>\n",
       "      <th>Normalised_FNT</th>\n",
       "      <th>data</th>\n",
       "    </tr>\n",
       "  </thead>\n",
       "  <tbody>\n",
       "    <tr>\n",
       "      <th>0</th>\n",
       "      <td>146574</td>\n",
       "      <td>Grp229</td>\n",
       "      <td>-0.300000</td>\n",
       "      <td>1.540000</td>\n",
       "      <td>0.22</td>\n",
       "      <td>-0.280000</td>\n",
       "      <td>0.57</td>\n",
       "      <td>0.260000</td>\n",
       "      <td>0.70</td>\n",
       "      <td>1.076667</td>\n",
       "      <td>...</td>\n",
       "      <td>0.546667</td>\n",
       "      <td>0.313333</td>\n",
       "      <td>0.703333</td>\n",
       "      <td>0.813333</td>\n",
       "      <td>0.776667</td>\n",
       "      <td>0.796667</td>\n",
       "      <td>0.823333</td>\n",
       "      <td>0.783333</td>\n",
       "      <td>-249.7500</td>\n",
       "      <td>test</td>\n",
       "    </tr>\n",
       "    <tr>\n",
       "      <th>1</th>\n",
       "      <td>268759</td>\n",
       "      <td>Grp141</td>\n",
       "      <td>0.633333</td>\n",
       "      <td>0.953333</td>\n",
       "      <td>0.81</td>\n",
       "      <td>0.466667</td>\n",
       "      <td>0.91</td>\n",
       "      <td>0.253333</td>\n",
       "      <td>1.04</td>\n",
       "      <td>0.550000</td>\n",
       "      <td>...</td>\n",
       "      <td>0.770000</td>\n",
       "      <td>0.993333</td>\n",
       "      <td>0.536667</td>\n",
       "      <td>0.703333</td>\n",
       "      <td>0.806667</td>\n",
       "      <td>0.630000</td>\n",
       "      <td>0.673333</td>\n",
       "      <td>0.673333</td>\n",
       "      <td>-249.8125</td>\n",
       "      <td>test</td>\n",
       "    </tr>\n",
       "  </tbody>\n",
       "</table>\n",
       "<p>2 rows × 28 columns</p>\n",
       "</div>"
      ],
      "text/plain": [
       "       id   Group      Per1      Per2  Per3      Per4  Per5      Per6  Per7  \\\n",
       "0  146574  Grp229 -0.300000  1.540000  0.22 -0.280000  0.57  0.260000  0.70   \n",
       "1  268759  Grp141  0.633333  0.953333  0.81  0.466667  0.91  0.253333  1.04   \n",
       "\n",
       "       Per8  ...      Dem8      Dem9     Cred1     Cred2     Cred3     Cred4  \\\n",
       "0  1.076667  ...  0.546667  0.313333  0.703333  0.813333  0.776667  0.796667   \n",
       "1  0.550000  ...  0.770000  0.993333  0.536667  0.703333  0.806667  0.630000   \n",
       "\n",
       "      Cred5     Cred6  Normalised_FNT  data  \n",
       "0  0.823333  0.783333       -249.7500  test  \n",
       "1  0.673333  0.673333       -249.8125  test  \n",
       "\n",
       "[2 rows x 28 columns]"
      ]
     },
     "execution_count": 23,
     "metadata": {},
     "output_type": "execute_result"
    }
   ],
   "source": [
    "test.head(2)"
   ]
  },
  {
   "cell_type": "code",
   "execution_count": 24,
   "id": "daece2cb-64f7-4d21-b28a-3c258af3359c",
   "metadata": {},
   "outputs": [],
   "source": [
    "# add both the table together\n",
    "all_data = pd.concat([train, test],axis=0)"
   ]
  },
  {
   "cell_type": "code",
   "execution_count": 25,
   "id": "98ea5eba-9284-448f-89e9-c1a55046353d",
   "metadata": {},
   "outputs": [
    {
     "data": {
      "text/plain": [
       "(284807, 29)"
      ]
     },
     "execution_count": 25,
     "metadata": {},
     "output_type": "execute_result"
    }
   ],
   "source": [
    "all_data.shape"
   ]
  },
  {
   "cell_type": "code",
   "execution_count": 26,
   "id": "543a954c-8649-43f7-bc6d-c5a075950090",
   "metadata": {},
   "outputs": [
    {
     "name": "stdout",
     "output_type": "stream",
     "text": [
      "*******************Unique ID to the customer****************\n",
      "geo 284807\n",
      "******************\n",
      "instance 284807\n",
      "******************\n",
      "qset 284807\n",
      "******************\n",
      "all_data 284807\n",
      "******************\n",
      "*******************Unique Group to the customer****************\n",
      "******************\n",
      "lmbda 1400\n",
      "******************\n",
      "test 915\n",
      "******************\n",
      "all_data 1400\n",
      "******************\n"
     ]
    }
   ],
   "source": [
    "print(\"*******************Unique ID to the customer****************\")\n",
    "print(\"geo\",geo['id'].nunique())\n",
    "print(\"******************\")\n",
    "print(\"instance\", instance['id'].nunique())\n",
    "print(\"******************\")\n",
    "print(\"qset\",qset['id'].nunique())\n",
    "print(\"******************\")\n",
    "print(\"all_data\", all_data['id'].nunique())\n",
    "\n",
    "print(\"******************\")\n",
    "print(\"*******************Unique Group to the customer****************\")\n",
    "print(\"******************\")\n",
    "print(\"lmbda\",lmbda['Group'].nunique())\n",
    "print(\"******************\")\n",
    "print(\"test\",test['Group'].nunique())\n",
    "print(\"******************\")\n",
    "print(\"all_data\",all_data['Group'].nunique())\n",
    "print(\"******************\")"
   ]
  },
  {
   "cell_type": "code",
   "execution_count": 27,
   "id": "2617b0ec-a0fb-48dd-9228-84b3b1648ed7",
   "metadata": {},
   "outputs": [
    {
     "data": {
      "text/plain": [
       "(1424035, 2)"
      ]
     },
     "execution_count": 27,
     "metadata": {},
     "output_type": "execute_result"
    }
   ],
   "source": [
    "instance.shape"
   ]
  },
  {
   "cell_type": "code",
   "execution_count": 28,
   "id": "5be5ae4b-84bd-457a-8f72-61f966008d62",
   "metadata": {},
   "outputs": [
    {
     "data": {
      "text/html": [
       "<div>\n",
       "<style scoped>\n",
       "    .dataframe tbody tr th:only-of-type {\n",
       "        vertical-align: middle;\n",
       "    }\n",
       "\n",
       "    .dataframe tbody tr th {\n",
       "        vertical-align: top;\n",
       "    }\n",
       "\n",
       "    .dataframe thead th {\n",
       "        text-align: right;\n",
       "    }\n",
       "</style>\n",
       "<table border=\"1\" class=\"dataframe\">\n",
       "  <thead>\n",
       "    <tr style=\"text-align: right;\">\n",
       "      <th></th>\n",
       "      <th>id</th>\n",
       "      <th>qsets_normalized_tat</th>\n",
       "    </tr>\n",
       "  </thead>\n",
       "  <tbody>\n",
       "    <tr>\n",
       "      <th>count</th>\n",
       "      <td>1.424035e+06</td>\n",
       "      <td>1.424035e+06</td>\n",
       "    </tr>\n",
       "    <tr>\n",
       "      <th>mean</th>\n",
       "      <td>1.424030e+05</td>\n",
       "      <td>1.459564e-03</td>\n",
       "    </tr>\n",
       "    <tr>\n",
       "      <th>std</th>\n",
       "      <td>8.221673e+04</td>\n",
       "      <td>7.446362e+00</td>\n",
       "    </tr>\n",
       "    <tr>\n",
       "      <th>min</th>\n",
       "      <td>0.000000e+00</td>\n",
       "      <td>-1.404400e+02</td>\n",
       "    </tr>\n",
       "    <tr>\n",
       "      <th>25%</th>\n",
       "      <td>7.120100e+04</td>\n",
       "      <td>-5.170000e+00</td>\n",
       "    </tr>\n",
       "    <tr>\n",
       "      <th>50%</th>\n",
       "      <td>1.424030e+05</td>\n",
       "      <td>2.000000e-02</td>\n",
       "    </tr>\n",
       "    <tr>\n",
       "      <th>75%</th>\n",
       "      <td>2.136050e+05</td>\n",
       "      <td>5.170000e+00</td>\n",
       "    </tr>\n",
       "    <tr>\n",
       "      <th>max</th>\n",
       "      <td>2.848060e+05</td>\n",
       "      <td>6.110000e+01</td>\n",
       "    </tr>\n",
       "  </tbody>\n",
       "</table>\n",
       "</div>"
      ],
      "text/plain": [
       "                 id  qsets_normalized_tat\n",
       "count  1.424035e+06          1.424035e+06\n",
       "mean   1.424030e+05          1.459564e-03\n",
       "std    8.221673e+04          7.446362e+00\n",
       "min    0.000000e+00         -1.404400e+02\n",
       "25%    7.120100e+04         -5.170000e+00\n",
       "50%    1.424030e+05          2.000000e-02\n",
       "75%    2.136050e+05          5.170000e+00\n",
       "max    2.848060e+05          6.110000e+01"
      ]
     },
     "execution_count": 28,
     "metadata": {},
     "output_type": "execute_result"
    }
   ],
   "source": [
    "qset.describe()"
   ]
  },
  {
   "cell_type": "code",
   "execution_count": 29,
   "id": "15ef11b2-320c-4e0b-8a27-de6c3ba6c114",
   "metadata": {},
   "outputs": [],
   "source": [
    "geo = geo.groupby('id').mean()\n",
    "instance = instance.groupby('id').mean()\n",
    "qset = qset.groupby('id').mean()\n"
   ]
  },
  {
   "cell_type": "code",
   "execution_count": 30,
   "id": "bf215ac1-7db4-4d38-988d-faf8f6270493",
   "metadata": {},
   "outputs": [
    {
     "data": {
      "text/plain": [
       "(284807, 1)"
      ]
     },
     "execution_count": 30,
     "metadata": {},
     "output_type": "execute_result"
    }
   ],
   "source": [
    "geo.shape"
   ]
  },
  {
   "cell_type": "code",
   "execution_count": 31,
   "id": "dffc9d7f-f848-49b0-8926-e39411383d18",
   "metadata": {},
   "outputs": [
    {
     "data": {
      "text/plain": [
       "(284807, 1)"
      ]
     },
     "execution_count": 31,
     "metadata": {},
     "output_type": "execute_result"
    }
   ],
   "source": [
    "instance.shape"
   ]
  },
  {
   "cell_type": "code",
   "execution_count": 32,
   "id": "27327a38-6fe4-48f6-a603-d72644c2784e",
   "metadata": {},
   "outputs": [
    {
     "data": {
      "text/plain": [
       "(284807, 1)"
      ]
     },
     "execution_count": 32,
     "metadata": {},
     "output_type": "execute_result"
    }
   ],
   "source": [
    "qset.shape"
   ]
  },
  {
   "cell_type": "code",
   "execution_count": 33,
   "id": "081d9e88-34d1-4b06-a806-1928ff1092e7",
   "metadata": {},
   "outputs": [
    {
     "data": {
      "text/plain": [
       "(284807, 29)"
      ]
     },
     "execution_count": 33,
     "metadata": {},
     "output_type": "execute_result"
    }
   ],
   "source": [
    "all_data.shape"
   ]
  },
  {
   "cell_type": "code",
   "execution_count": 34,
   "id": "9d0deb87-d410-43d9-abd5-569eb2c1ab50",
   "metadata": {},
   "outputs": [
    {
     "data": {
      "text/plain": [
       "(1400, 2)"
      ]
     },
     "execution_count": 34,
     "metadata": {},
     "output_type": "execute_result"
    }
   ],
   "source": [
    "lmbda.shape"
   ]
  },
  {
   "cell_type": "code",
   "execution_count": 35,
   "id": "5467ddaf-ad54-4f61-9c47-67492bbcc22a",
   "metadata": {},
   "outputs": [
    {
     "data": {
      "text/html": [
       "<div>\n",
       "<style scoped>\n",
       "    .dataframe tbody tr th:only-of-type {\n",
       "        vertical-align: middle;\n",
       "    }\n",
       "\n",
       "    .dataframe tbody tr th {\n",
       "        vertical-align: top;\n",
       "    }\n",
       "\n",
       "    .dataframe thead th {\n",
       "        text-align: right;\n",
       "    }\n",
       "</style>\n",
       "<table border=\"1\" class=\"dataframe\">\n",
       "  <thead>\n",
       "    <tr style=\"text-align: right;\">\n",
       "      <th></th>\n",
       "      <th>Group</th>\n",
       "      <th>lambda_wt</th>\n",
       "    </tr>\n",
       "  </thead>\n",
       "  <tbody>\n",
       "    <tr>\n",
       "      <th>0</th>\n",
       "      <td>Grp936</td>\n",
       "      <td>3.41</td>\n",
       "    </tr>\n",
       "    <tr>\n",
       "      <th>1</th>\n",
       "      <td>Grp347</td>\n",
       "      <td>-2.88</td>\n",
       "    </tr>\n",
       "  </tbody>\n",
       "</table>\n",
       "</div>"
      ],
      "text/plain": [
       "    Group  lambda_wt\n",
       "0  Grp936       3.41\n",
       "1  Grp347      -2.88"
      ]
     },
     "execution_count": 35,
     "metadata": {},
     "output_type": "execute_result"
    }
   ],
   "source": [
    "lmbda.head(2)"
   ]
  },
  {
   "cell_type": "code",
   "execution_count": 36,
   "id": "7657fb75-130d-4ce3-a050-9f462a73072a",
   "metadata": {},
   "outputs": [],
   "source": [
    "all_data = pd.merge(all_data, lmbda, on='Group', how='left')"
   ]
  },
  {
   "cell_type": "code",
   "execution_count": 37,
   "id": "338b57c9-e454-4300-8b0f-a41e1fb657f1",
   "metadata": {},
   "outputs": [
    {
     "data": {
      "text/plain": [
       "(284807, 30)"
      ]
     },
     "execution_count": 37,
     "metadata": {},
     "output_type": "execute_result"
    }
   ],
   "source": [
    "all_data.shape"
   ]
  },
  {
   "cell_type": "code",
   "execution_count": 38,
   "id": "61dc8baf-212a-4130-a5e1-ebc0aef1b63c",
   "metadata": {},
   "outputs": [
    {
     "data": {
      "text/html": [
       "<div>\n",
       "<style scoped>\n",
       "    .dataframe tbody tr th:only-of-type {\n",
       "        vertical-align: middle;\n",
       "    }\n",
       "\n",
       "    .dataframe tbody tr th {\n",
       "        vertical-align: top;\n",
       "    }\n",
       "\n",
       "    .dataframe thead th {\n",
       "        text-align: right;\n",
       "    }\n",
       "</style>\n",
       "<table border=\"1\" class=\"dataframe\">\n",
       "  <thead>\n",
       "    <tr style=\"text-align: right;\">\n",
       "      <th></th>\n",
       "      <th>id</th>\n",
       "      <th>Group</th>\n",
       "      <th>Per1</th>\n",
       "      <th>Per2</th>\n",
       "      <th>Per3</th>\n",
       "      <th>Per4</th>\n",
       "      <th>Per5</th>\n",
       "      <th>Per6</th>\n",
       "      <th>Per7</th>\n",
       "      <th>Per8</th>\n",
       "      <th>...</th>\n",
       "      <th>Cred1</th>\n",
       "      <th>Cred2</th>\n",
       "      <th>Cred3</th>\n",
       "      <th>Cred4</th>\n",
       "      <th>Cred5</th>\n",
       "      <th>Cred6</th>\n",
       "      <th>Normalised_FNT</th>\n",
       "      <th>Target</th>\n",
       "      <th>data</th>\n",
       "      <th>lambda_wt</th>\n",
       "    </tr>\n",
       "  </thead>\n",
       "  <tbody>\n",
       "    <tr>\n",
       "      <th>0</th>\n",
       "      <td>112751</td>\n",
       "      <td>Grp169</td>\n",
       "      <td>1.070000</td>\n",
       "      <td>0.580000</td>\n",
       "      <td>0.480000</td>\n",
       "      <td>0.766667</td>\n",
       "      <td>1.233333</td>\n",
       "      <td>1.993333</td>\n",
       "      <td>0.340000</td>\n",
       "      <td>1.010000</td>\n",
       "      <td>...</td>\n",
       "      <td>0.606667</td>\n",
       "      <td>1.010000</td>\n",
       "      <td>0.933333</td>\n",
       "      <td>0.603333</td>\n",
       "      <td>0.686667</td>\n",
       "      <td>0.673333</td>\n",
       "      <td>-245.7500</td>\n",
       "      <td>0.0</td>\n",
       "      <td>train</td>\n",
       "      <td>-0.13</td>\n",
       "    </tr>\n",
       "    <tr>\n",
       "      <th>1</th>\n",
       "      <td>18495</td>\n",
       "      <td>Grp161</td>\n",
       "      <td>0.473333</td>\n",
       "      <td>1.206667</td>\n",
       "      <td>0.883333</td>\n",
       "      <td>1.430000</td>\n",
       "      <td>0.726667</td>\n",
       "      <td>0.626667</td>\n",
       "      <td>0.810000</td>\n",
       "      <td>0.783333</td>\n",
       "      <td>...</td>\n",
       "      <td>0.680000</td>\n",
       "      <td>0.690000</td>\n",
       "      <td>0.560000</td>\n",
       "      <td>0.670000</td>\n",
       "      <td>0.553333</td>\n",
       "      <td>0.653333</td>\n",
       "      <td>-248.0000</td>\n",
       "      <td>0.0</td>\n",
       "      <td>train</td>\n",
       "      <td>0.66</td>\n",
       "    </tr>\n",
       "    <tr>\n",
       "      <th>2</th>\n",
       "      <td>23915</td>\n",
       "      <td>Grp261</td>\n",
       "      <td>1.130000</td>\n",
       "      <td>0.143333</td>\n",
       "      <td>0.946667</td>\n",
       "      <td>0.123333</td>\n",
       "      <td>0.080000</td>\n",
       "      <td>0.836667</td>\n",
       "      <td>0.056667</td>\n",
       "      <td>0.756667</td>\n",
       "      <td>...</td>\n",
       "      <td>0.600000</td>\n",
       "      <td>0.383333</td>\n",
       "      <td>0.763333</td>\n",
       "      <td>0.670000</td>\n",
       "      <td>0.686667</td>\n",
       "      <td>0.673333</td>\n",
       "      <td>-233.1250</td>\n",
       "      <td>0.0</td>\n",
       "      <td>train</td>\n",
       "      <td>-0.51</td>\n",
       "    </tr>\n",
       "    <tr>\n",
       "      <th>3</th>\n",
       "      <td>50806</td>\n",
       "      <td>Grp198</td>\n",
       "      <td>0.636667</td>\n",
       "      <td>1.090000</td>\n",
       "      <td>0.750000</td>\n",
       "      <td>0.940000</td>\n",
       "      <td>0.743333</td>\n",
       "      <td>0.346667</td>\n",
       "      <td>0.956667</td>\n",
       "      <td>0.633333</td>\n",
       "      <td>...</td>\n",
       "      <td>0.680000</td>\n",
       "      <td>0.846667</td>\n",
       "      <td>0.423333</td>\n",
       "      <td>0.520000</td>\n",
       "      <td>0.846667</td>\n",
       "      <td>0.760000</td>\n",
       "      <td>-249.7775</td>\n",
       "      <td>0.0</td>\n",
       "      <td>train</td>\n",
       "      <td>0.72</td>\n",
       "    </tr>\n",
       "    <tr>\n",
       "      <th>4</th>\n",
       "      <td>184244</td>\n",
       "      <td>Grp228</td>\n",
       "      <td>0.560000</td>\n",
       "      <td>1.013333</td>\n",
       "      <td>0.593333</td>\n",
       "      <td>0.416667</td>\n",
       "      <td>0.773333</td>\n",
       "      <td>0.460000</td>\n",
       "      <td>0.853333</td>\n",
       "      <td>0.796667</td>\n",
       "      <td>...</td>\n",
       "      <td>0.693333</td>\n",
       "      <td>0.526667</td>\n",
       "      <td>0.520000</td>\n",
       "      <td>0.716667</td>\n",
       "      <td>0.706667</td>\n",
       "      <td>0.673333</td>\n",
       "      <td>-247.5775</td>\n",
       "      <td>0.0</td>\n",
       "      <td>train</td>\n",
       "      <td>0.60</td>\n",
       "    </tr>\n",
       "  </tbody>\n",
       "</table>\n",
       "<p>5 rows × 30 columns</p>\n",
       "</div>"
      ],
      "text/plain": [
       "       id   Group      Per1      Per2      Per3      Per4      Per5      Per6  \\\n",
       "0  112751  Grp169  1.070000  0.580000  0.480000  0.766667  1.233333  1.993333   \n",
       "1   18495  Grp161  0.473333  1.206667  0.883333  1.430000  0.726667  0.626667   \n",
       "2   23915  Grp261  1.130000  0.143333  0.946667  0.123333  0.080000  0.836667   \n",
       "3   50806  Grp198  0.636667  1.090000  0.750000  0.940000  0.743333  0.346667   \n",
       "4  184244  Grp228  0.560000  1.013333  0.593333  0.416667  0.773333  0.460000   \n",
       "\n",
       "       Per7      Per8  ...     Cred1     Cred2     Cred3     Cred4     Cred5  \\\n",
       "0  0.340000  1.010000  ...  0.606667  1.010000  0.933333  0.603333  0.686667   \n",
       "1  0.810000  0.783333  ...  0.680000  0.690000  0.560000  0.670000  0.553333   \n",
       "2  0.056667  0.756667  ...  0.600000  0.383333  0.763333  0.670000  0.686667   \n",
       "3  0.956667  0.633333  ...  0.680000  0.846667  0.423333  0.520000  0.846667   \n",
       "4  0.853333  0.796667  ...  0.693333  0.526667  0.520000  0.716667  0.706667   \n",
       "\n",
       "      Cred6  Normalised_FNT  Target   data  lambda_wt  \n",
       "0  0.673333       -245.7500     0.0  train      -0.13  \n",
       "1  0.653333       -248.0000     0.0  train       0.66  \n",
       "2  0.673333       -233.1250     0.0  train      -0.51  \n",
       "3  0.760000       -249.7775     0.0  train       0.72  \n",
       "4  0.673333       -247.5775     0.0  train       0.60  \n",
       "\n",
       "[5 rows x 30 columns]"
      ]
     },
     "execution_count": 38,
     "metadata": {},
     "output_type": "execute_result"
    }
   ],
   "source": [
    "all_data.head()"
   ]
  },
  {
   "cell_type": "code",
   "execution_count": 39,
   "id": "da538483-6a98-4808-a2fc-fc0673a9c130",
   "metadata": {},
   "outputs": [],
   "source": [
    "all_data = pd.merge(all_data, geo, on='id', how='left')\n"
   ]
  },
  {
   "cell_type": "code",
   "execution_count": 40,
   "id": "a2ce428b-86f6-45f4-8328-b00393ee52d1",
   "metadata": {},
   "outputs": [
    {
     "data": {
      "text/plain": [
       "(284807, 31)"
      ]
     },
     "execution_count": 40,
     "metadata": {},
     "output_type": "execute_result"
    }
   ],
   "source": [
    "all_data.shape"
   ]
  },
  {
   "cell_type": "code",
   "execution_count": 41,
   "id": "b72b473f-c670-4930-a786-023c46182143",
   "metadata": {},
   "outputs": [],
   "source": [
    "all_data = pd.merge(all_data, instance, on='id', how='left')\n"
   ]
  },
  {
   "cell_type": "code",
   "execution_count": 42,
   "id": "bdb01169-304b-46f7-a5ab-af3de5f507f0",
   "metadata": {},
   "outputs": [
    {
     "data": {
      "text/html": [
       "<div>\n",
       "<style scoped>\n",
       "    .dataframe tbody tr th:only-of-type {\n",
       "        vertical-align: middle;\n",
       "    }\n",
       "\n",
       "    .dataframe tbody tr th {\n",
       "        vertical-align: top;\n",
       "    }\n",
       "\n",
       "    .dataframe thead th {\n",
       "        text-align: right;\n",
       "    }\n",
       "</style>\n",
       "<table border=\"1\" class=\"dataframe\">\n",
       "  <thead>\n",
       "    <tr style=\"text-align: right;\">\n",
       "      <th></th>\n",
       "      <th>id</th>\n",
       "      <th>Group</th>\n",
       "      <th>Per1</th>\n",
       "      <th>Per2</th>\n",
       "      <th>Per3</th>\n",
       "      <th>Per4</th>\n",
       "      <th>Per5</th>\n",
       "      <th>Per6</th>\n",
       "      <th>Per7</th>\n",
       "      <th>Per8</th>\n",
       "      <th>...</th>\n",
       "      <th>Cred3</th>\n",
       "      <th>Cred4</th>\n",
       "      <th>Cred5</th>\n",
       "      <th>Cred6</th>\n",
       "      <th>Normalised_FNT</th>\n",
       "      <th>Target</th>\n",
       "      <th>data</th>\n",
       "      <th>lambda_wt</th>\n",
       "      <th>geo_score</th>\n",
       "      <th>instance_scores</th>\n",
       "    </tr>\n",
       "  </thead>\n",
       "  <tbody>\n",
       "    <tr>\n",
       "      <th>0</th>\n",
       "      <td>112751</td>\n",
       "      <td>Grp169</td>\n",
       "      <td>1.070000</td>\n",
       "      <td>0.580000</td>\n",
       "      <td>0.480000</td>\n",
       "      <td>0.766667</td>\n",
       "      <td>1.233333</td>\n",
       "      <td>1.993333</td>\n",
       "      <td>0.340000</td>\n",
       "      <td>1.010000</td>\n",
       "      <td>...</td>\n",
       "      <td>0.933333</td>\n",
       "      <td>0.603333</td>\n",
       "      <td>0.686667</td>\n",
       "      <td>0.673333</td>\n",
       "      <td>-245.7500</td>\n",
       "      <td>0.0</td>\n",
       "      <td>train</td>\n",
       "      <td>-0.13</td>\n",
       "      <td>0.256</td>\n",
       "      <td>-0.06</td>\n",
       "    </tr>\n",
       "    <tr>\n",
       "      <th>1</th>\n",
       "      <td>18495</td>\n",
       "      <td>Grp161</td>\n",
       "      <td>0.473333</td>\n",
       "      <td>1.206667</td>\n",
       "      <td>0.883333</td>\n",
       "      <td>1.430000</td>\n",
       "      <td>0.726667</td>\n",
       "      <td>0.626667</td>\n",
       "      <td>0.810000</td>\n",
       "      <td>0.783333</td>\n",
       "      <td>...</td>\n",
       "      <td>0.560000</td>\n",
       "      <td>0.670000</td>\n",
       "      <td>0.553333</td>\n",
       "      <td>0.653333</td>\n",
       "      <td>-248.0000</td>\n",
       "      <td>0.0</td>\n",
       "      <td>train</td>\n",
       "      <td>0.66</td>\n",
       "      <td>-0.250</td>\n",
       "      <td>0.52</td>\n",
       "    </tr>\n",
       "    <tr>\n",
       "      <th>2</th>\n",
       "      <td>23915</td>\n",
       "      <td>Grp261</td>\n",
       "      <td>1.130000</td>\n",
       "      <td>0.143333</td>\n",
       "      <td>0.946667</td>\n",
       "      <td>0.123333</td>\n",
       "      <td>0.080000</td>\n",
       "      <td>0.836667</td>\n",
       "      <td>0.056667</td>\n",
       "      <td>0.756667</td>\n",
       "      <td>...</td>\n",
       "      <td>0.763333</td>\n",
       "      <td>0.670000</td>\n",
       "      <td>0.686667</td>\n",
       "      <td>0.673333</td>\n",
       "      <td>-233.1250</td>\n",
       "      <td>0.0</td>\n",
       "      <td>train</td>\n",
       "      <td>-0.51</td>\n",
       "      <td>-0.950</td>\n",
       "      <td>1.56</td>\n",
       "    </tr>\n",
       "    <tr>\n",
       "      <th>3</th>\n",
       "      <td>50806</td>\n",
       "      <td>Grp198</td>\n",
       "      <td>0.636667</td>\n",
       "      <td>1.090000</td>\n",
       "      <td>0.750000</td>\n",
       "      <td>0.940000</td>\n",
       "      <td>0.743333</td>\n",
       "      <td>0.346667</td>\n",
       "      <td>0.956667</td>\n",
       "      <td>0.633333</td>\n",
       "      <td>...</td>\n",
       "      <td>0.423333</td>\n",
       "      <td>0.520000</td>\n",
       "      <td>0.846667</td>\n",
       "      <td>0.760000</td>\n",
       "      <td>-249.7775</td>\n",
       "      <td>0.0</td>\n",
       "      <td>train</td>\n",
       "      <td>0.72</td>\n",
       "      <td>0.490</td>\n",
       "      <td>0.70</td>\n",
       "    </tr>\n",
       "    <tr>\n",
       "      <th>4</th>\n",
       "      <td>184244</td>\n",
       "      <td>Grp228</td>\n",
       "      <td>0.560000</td>\n",
       "      <td>1.013333</td>\n",
       "      <td>0.593333</td>\n",
       "      <td>0.416667</td>\n",
       "      <td>0.773333</td>\n",
       "      <td>0.460000</td>\n",
       "      <td>0.853333</td>\n",
       "      <td>0.796667</td>\n",
       "      <td>...</td>\n",
       "      <td>0.520000</td>\n",
       "      <td>0.716667</td>\n",
       "      <td>0.706667</td>\n",
       "      <td>0.673333</td>\n",
       "      <td>-247.5775</td>\n",
       "      <td>0.0</td>\n",
       "      <td>train</td>\n",
       "      <td>0.60</td>\n",
       "      <td>0.850</td>\n",
       "      <td>-0.47</td>\n",
       "    </tr>\n",
       "  </tbody>\n",
       "</table>\n",
       "<p>5 rows × 32 columns</p>\n",
       "</div>"
      ],
      "text/plain": [
       "       id   Group      Per1      Per2      Per3      Per4      Per5      Per6  \\\n",
       "0  112751  Grp169  1.070000  0.580000  0.480000  0.766667  1.233333  1.993333   \n",
       "1   18495  Grp161  0.473333  1.206667  0.883333  1.430000  0.726667  0.626667   \n",
       "2   23915  Grp261  1.130000  0.143333  0.946667  0.123333  0.080000  0.836667   \n",
       "3   50806  Grp198  0.636667  1.090000  0.750000  0.940000  0.743333  0.346667   \n",
       "4  184244  Grp228  0.560000  1.013333  0.593333  0.416667  0.773333  0.460000   \n",
       "\n",
       "       Per7      Per8  ...     Cred3     Cred4     Cred5     Cred6  \\\n",
       "0  0.340000  1.010000  ...  0.933333  0.603333  0.686667  0.673333   \n",
       "1  0.810000  0.783333  ...  0.560000  0.670000  0.553333  0.653333   \n",
       "2  0.056667  0.756667  ...  0.763333  0.670000  0.686667  0.673333   \n",
       "3  0.956667  0.633333  ...  0.423333  0.520000  0.846667  0.760000   \n",
       "4  0.853333  0.796667  ...  0.520000  0.716667  0.706667  0.673333   \n",
       "\n",
       "   Normalised_FNT  Target   data  lambda_wt  geo_score  instance_scores  \n",
       "0       -245.7500     0.0  train      -0.13      0.256            -0.06  \n",
       "1       -248.0000     0.0  train       0.66     -0.250             0.52  \n",
       "2       -233.1250     0.0  train      -0.51     -0.950             1.56  \n",
       "3       -249.7775     0.0  train       0.72      0.490             0.70  \n",
       "4       -247.5775     0.0  train       0.60      0.850            -0.47  \n",
       "\n",
       "[5 rows x 32 columns]"
      ]
     },
     "execution_count": 42,
     "metadata": {},
     "output_type": "execute_result"
    }
   ],
   "source": [
    "all_data.head()"
   ]
  },
  {
   "cell_type": "code",
   "execution_count": 43,
   "id": "2bef3fcb-d03c-4231-8d27-92fe2afe29ad",
   "metadata": {},
   "outputs": [
    {
     "data": {
      "text/plain": [
       "(284807, 32)"
      ]
     },
     "execution_count": 43,
     "metadata": {},
     "output_type": "execute_result"
    }
   ],
   "source": [
    "all_data.shape"
   ]
  },
  {
   "cell_type": "code",
   "execution_count": 44,
   "id": "40765ddc-cd64-49ae-918b-30297223a853",
   "metadata": {},
   "outputs": [
    {
     "data": {
      "text/plain": [
       "(284807, 1)"
      ]
     },
     "execution_count": 44,
     "metadata": {},
     "output_type": "execute_result"
    }
   ],
   "source": [
    "qset.shape"
   ]
  },
  {
   "cell_type": "code",
   "execution_count": 45,
   "id": "062f555e-17ac-44ac-b172-2fcb205a740b",
   "metadata": {},
   "outputs": [],
   "source": [
    "all_data = pd.merge(all_data, qset, on='id', how='left')"
   ]
  },
  {
   "cell_type": "code",
   "execution_count": 46,
   "id": "bad54fc9-5cc3-4814-8524-082d409cb2ce",
   "metadata": {},
   "outputs": [
    {
     "data": {
      "text/plain": [
       "(284807, 33)"
      ]
     },
     "execution_count": 46,
     "metadata": {},
     "output_type": "execute_result"
    }
   ],
   "source": [
    "all_data.shape"
   ]
  },
  {
   "cell_type": "code",
   "execution_count": 47,
   "id": "06132b1a-747a-4383-aa28-121876a16ced",
   "metadata": {},
   "outputs": [
    {
     "data": {
      "text/plain": [
       "1400"
      ]
     },
     "execution_count": 47,
     "metadata": {},
     "output_type": "execute_result"
    }
   ],
   "source": [
    "all_data['Group'].nunique()"
   ]
  },
  {
   "cell_type": "code",
   "execution_count": 48,
   "id": "9d0c3464-8663-47e5-ac72-489465d35408",
   "metadata": {},
   "outputs": [
    {
     "data": {
      "text/plain": [
       "1400"
      ]
     },
     "execution_count": 48,
     "metadata": {},
     "output_type": "execute_result"
    }
   ],
   "source": [
    "lmbda['Group'].nunique()"
   ]
  },
  {
   "cell_type": "code",
   "execution_count": 49,
   "id": "3b73f962-43a2-4b1b-8d3f-bad61f57e922",
   "metadata": {},
   "outputs": [
    {
     "data": {
      "text/html": [
       "<div>\n",
       "<style scoped>\n",
       "    .dataframe tbody tr th:only-of-type {\n",
       "        vertical-align: middle;\n",
       "    }\n",
       "\n",
       "    .dataframe tbody tr th {\n",
       "        vertical-align: top;\n",
       "    }\n",
       "\n",
       "    .dataframe thead th {\n",
       "        text-align: right;\n",
       "    }\n",
       "</style>\n",
       "<table border=\"1\" class=\"dataframe\">\n",
       "  <thead>\n",
       "    <tr style=\"text-align: right;\">\n",
       "      <th></th>\n",
       "      <th>id</th>\n",
       "      <th>Group</th>\n",
       "      <th>Per1</th>\n",
       "      <th>Per2</th>\n",
       "      <th>Per3</th>\n",
       "      <th>Per4</th>\n",
       "      <th>Per5</th>\n",
       "      <th>Per6</th>\n",
       "      <th>Per7</th>\n",
       "      <th>Per8</th>\n",
       "      <th>...</th>\n",
       "      <th>Cred4</th>\n",
       "      <th>Cred5</th>\n",
       "      <th>Cred6</th>\n",
       "      <th>Normalised_FNT</th>\n",
       "      <th>Target</th>\n",
       "      <th>data</th>\n",
       "      <th>lambda_wt</th>\n",
       "      <th>geo_score</th>\n",
       "      <th>instance_scores</th>\n",
       "      <th>qsets_normalized_tat</th>\n",
       "    </tr>\n",
       "  </thead>\n",
       "  <tbody>\n",
       "    <tr>\n",
       "      <th>0</th>\n",
       "      <td>112751</td>\n",
       "      <td>Grp169</td>\n",
       "      <td>1.070000</td>\n",
       "      <td>0.580000</td>\n",
       "      <td>0.480000</td>\n",
       "      <td>0.766667</td>\n",
       "      <td>1.233333</td>\n",
       "      <td>1.993333</td>\n",
       "      <td>0.340000</td>\n",
       "      <td>1.010000</td>\n",
       "      <td>...</td>\n",
       "      <td>0.603333</td>\n",
       "      <td>0.686667</td>\n",
       "      <td>0.673333</td>\n",
       "      <td>-245.7500</td>\n",
       "      <td>0.0</td>\n",
       "      <td>train</td>\n",
       "      <td>-0.13</td>\n",
       "      <td>0.256</td>\n",
       "      <td>-0.06</td>\n",
       "      <td>-0.700</td>\n",
       "    </tr>\n",
       "    <tr>\n",
       "      <th>1</th>\n",
       "      <td>18495</td>\n",
       "      <td>Grp161</td>\n",
       "      <td>0.473333</td>\n",
       "      <td>1.206667</td>\n",
       "      <td>0.883333</td>\n",
       "      <td>1.430000</td>\n",
       "      <td>0.726667</td>\n",
       "      <td>0.626667</td>\n",
       "      <td>0.810000</td>\n",
       "      <td>0.783333</td>\n",
       "      <td>...</td>\n",
       "      <td>0.670000</td>\n",
       "      <td>0.553333</td>\n",
       "      <td>0.653333</td>\n",
       "      <td>-248.0000</td>\n",
       "      <td>0.0</td>\n",
       "      <td>train</td>\n",
       "      <td>0.66</td>\n",
       "      <td>-0.250</td>\n",
       "      <td>0.52</td>\n",
       "      <td>0.140</td>\n",
       "    </tr>\n",
       "    <tr>\n",
       "      <th>2</th>\n",
       "      <td>23915</td>\n",
       "      <td>Grp261</td>\n",
       "      <td>1.130000</td>\n",
       "      <td>0.143333</td>\n",
       "      <td>0.946667</td>\n",
       "      <td>0.123333</td>\n",
       "      <td>0.080000</td>\n",
       "      <td>0.836667</td>\n",
       "      <td>0.056667</td>\n",
       "      <td>0.756667</td>\n",
       "      <td>...</td>\n",
       "      <td>0.670000</td>\n",
       "      <td>0.686667</td>\n",
       "      <td>0.673333</td>\n",
       "      <td>-233.1250</td>\n",
       "      <td>0.0</td>\n",
       "      <td>train</td>\n",
       "      <td>-0.51</td>\n",
       "      <td>-0.950</td>\n",
       "      <td>1.56</td>\n",
       "      <td>-0.430</td>\n",
       "    </tr>\n",
       "    <tr>\n",
       "      <th>3</th>\n",
       "      <td>50806</td>\n",
       "      <td>Grp198</td>\n",
       "      <td>0.636667</td>\n",
       "      <td>1.090000</td>\n",
       "      <td>0.750000</td>\n",
       "      <td>0.940000</td>\n",
       "      <td>0.743333</td>\n",
       "      <td>0.346667</td>\n",
       "      <td>0.956667</td>\n",
       "      <td>0.633333</td>\n",
       "      <td>...</td>\n",
       "      <td>0.520000</td>\n",
       "      <td>0.846667</td>\n",
       "      <td>0.760000</td>\n",
       "      <td>-249.7775</td>\n",
       "      <td>0.0</td>\n",
       "      <td>train</td>\n",
       "      <td>0.72</td>\n",
       "      <td>0.490</td>\n",
       "      <td>0.70</td>\n",
       "      <td>-0.302</td>\n",
       "    </tr>\n",
       "    <tr>\n",
       "      <th>4</th>\n",
       "      <td>184244</td>\n",
       "      <td>Grp228</td>\n",
       "      <td>0.560000</td>\n",
       "      <td>1.013333</td>\n",
       "      <td>0.593333</td>\n",
       "      <td>0.416667</td>\n",
       "      <td>0.773333</td>\n",
       "      <td>0.460000</td>\n",
       "      <td>0.853333</td>\n",
       "      <td>0.796667</td>\n",
       "      <td>...</td>\n",
       "      <td>0.716667</td>\n",
       "      <td>0.706667</td>\n",
       "      <td>0.673333</td>\n",
       "      <td>-247.5775</td>\n",
       "      <td>0.0</td>\n",
       "      <td>train</td>\n",
       "      <td>0.60</td>\n",
       "      <td>0.850</td>\n",
       "      <td>-0.47</td>\n",
       "      <td>-0.630</td>\n",
       "    </tr>\n",
       "  </tbody>\n",
       "</table>\n",
       "<p>5 rows × 33 columns</p>\n",
       "</div>"
      ],
      "text/plain": [
       "       id   Group      Per1      Per2      Per3      Per4      Per5      Per6  \\\n",
       "0  112751  Grp169  1.070000  0.580000  0.480000  0.766667  1.233333  1.993333   \n",
       "1   18495  Grp161  0.473333  1.206667  0.883333  1.430000  0.726667  0.626667   \n",
       "2   23915  Grp261  1.130000  0.143333  0.946667  0.123333  0.080000  0.836667   \n",
       "3   50806  Grp198  0.636667  1.090000  0.750000  0.940000  0.743333  0.346667   \n",
       "4  184244  Grp228  0.560000  1.013333  0.593333  0.416667  0.773333  0.460000   \n",
       "\n",
       "       Per7      Per8  ...     Cred4     Cred5     Cred6  Normalised_FNT  \\\n",
       "0  0.340000  1.010000  ...  0.603333  0.686667  0.673333       -245.7500   \n",
       "1  0.810000  0.783333  ...  0.670000  0.553333  0.653333       -248.0000   \n",
       "2  0.056667  0.756667  ...  0.670000  0.686667  0.673333       -233.1250   \n",
       "3  0.956667  0.633333  ...  0.520000  0.846667  0.760000       -249.7775   \n",
       "4  0.853333  0.796667  ...  0.716667  0.706667  0.673333       -247.5775   \n",
       "\n",
       "   Target   data  lambda_wt  geo_score  instance_scores  qsets_normalized_tat  \n",
       "0     0.0  train      -0.13      0.256            -0.06                -0.700  \n",
       "1     0.0  train       0.66     -0.250             0.52                 0.140  \n",
       "2     0.0  train      -0.51     -0.950             1.56                -0.430  \n",
       "3     0.0  train       0.72      0.490             0.70                -0.302  \n",
       "4     0.0  train       0.60      0.850            -0.47                -0.630  \n",
       "\n",
       "[5 rows x 33 columns]"
      ]
     },
     "execution_count": 49,
     "metadata": {},
     "output_type": "execute_result"
    }
   ],
   "source": [
    "all_data.head()"
   ]
  },
  {
   "cell_type": "markdown",
   "id": "b871c08d-ac02-4923-9187-4605a3c696bb",
   "metadata": {},
   "source": [
    "# EDA"
   ]
  },
  {
   "cell_type": "code",
   "execution_count": 51,
   "id": "aea43a73-5e95-48b3-a467-2ee87c39187f",
   "metadata": {},
   "outputs": [
    {
     "name": "stdout",
     "output_type": "stream",
     "text": [
      "Requirement already satisfied: ydata_profiling in c:\\users\\sanoo\\anaconda3\\lib\\site-packages (4.16.1)\n",
      "Requirement already satisfied: scipy<1.16,>=1.4.1 in c:\\users\\sanoo\\anaconda3\\lib\\site-packages (from ydata_profiling) (1.13.1)\n",
      "Requirement already satisfied: pandas!=1.4.0,<3.0,>1.1 in c:\\users\\sanoo\\anaconda3\\lib\\site-packages (from ydata_profiling) (2.2.2)\n",
      "Requirement already satisfied: matplotlib<=3.10,>=3.5 in c:\\users\\sanoo\\anaconda3\\lib\\site-packages (from ydata_profiling) (3.8.4)\n",
      "Requirement already satisfied: pydantic>=2 in c:\\users\\sanoo\\anaconda3\\lib\\site-packages (from ydata_profiling) (2.5.3)\n",
      "Requirement already satisfied: PyYAML<6.1,>=5.0.0 in c:\\users\\sanoo\\anaconda3\\lib\\site-packages (from ydata_profiling) (6.0.1)\n",
      "Requirement already satisfied: jinja2<3.2,>=2.11.1 in c:\\users\\sanoo\\anaconda3\\lib\\site-packages (from ydata_profiling) (3.1.4)\n",
      "Requirement already satisfied: visions<0.8.2,>=0.7.5 in c:\\users\\sanoo\\anaconda3\\lib\\site-packages (from visions[type_image_path]<0.8.2,>=0.7.5->ydata_profiling) (0.8.1)\n",
      "Requirement already satisfied: numpy<2.2,>=1.16.0 in c:\\users\\sanoo\\anaconda3\\lib\\site-packages (from ydata_profiling) (1.26.4)\n",
      "Requirement already satisfied: htmlmin==0.1.12 in c:\\users\\sanoo\\anaconda3\\lib\\site-packages (from ydata_profiling) (0.1.12)\n",
      "Requirement already satisfied: phik<0.13,>=0.11.1 in c:\\users\\sanoo\\anaconda3\\lib\\site-packages (from ydata_profiling) (0.12.4)\n",
      "Requirement already satisfied: requests<3,>=2.24.0 in c:\\users\\sanoo\\anaconda3\\lib\\site-packages (from ydata_profiling) (2.32.2)\n",
      "Requirement already satisfied: tqdm<5,>=4.48.2 in c:\\users\\sanoo\\anaconda3\\lib\\site-packages (from ydata_profiling) (4.66.4)\n",
      "Requirement already satisfied: seaborn<0.14,>=0.10.1 in c:\\users\\sanoo\\anaconda3\\lib\\site-packages (from ydata_profiling) (0.13.2)\n",
      "Requirement already satisfied: multimethod<2,>=1.4 in c:\\users\\sanoo\\anaconda3\\lib\\site-packages (from ydata_profiling) (1.12)\n",
      "Requirement already satisfied: statsmodels<1,>=0.13.2 in c:\\users\\sanoo\\anaconda3\\lib\\site-packages (from ydata_profiling) (0.14.2)\n",
      "Requirement already satisfied: typeguard<5,>=3 in c:\\users\\sanoo\\anaconda3\\lib\\site-packages (from ydata_profiling) (4.4.4)\n",
      "Requirement already satisfied: imagehash==4.3.1 in c:\\users\\sanoo\\anaconda3\\lib\\site-packages (from ydata_profiling) (4.3.1)\n",
      "Requirement already satisfied: wordcloud>=1.9.3 in c:\\users\\sanoo\\anaconda3\\lib\\site-packages (from ydata_profiling) (1.9.4)\n",
      "Requirement already satisfied: dacite>=1.8 in c:\\users\\sanoo\\anaconda3\\lib\\site-packages (from ydata_profiling) (1.9.2)\n",
      "Requirement already satisfied: numba<=0.61,>=0.56.0 in c:\\users\\sanoo\\anaconda3\\lib\\site-packages (from ydata_profiling) (0.59.1)\n",
      "Requirement already satisfied: PyWavelets in c:\\users\\sanoo\\anaconda3\\lib\\site-packages (from imagehash==4.3.1->ydata_profiling) (1.5.0)\n",
      "Requirement already satisfied: pillow in c:\\users\\sanoo\\anaconda3\\lib\\site-packages (from imagehash==4.3.1->ydata_profiling) (10.3.0)\n",
      "Requirement already satisfied: MarkupSafe>=2.0 in c:\\users\\sanoo\\anaconda3\\lib\\site-packages (from jinja2<3.2,>=2.11.1->ydata_profiling) (2.1.3)\n",
      "Requirement already satisfied: contourpy>=1.0.1 in c:\\users\\sanoo\\anaconda3\\lib\\site-packages (from matplotlib<=3.10,>=3.5->ydata_profiling) (1.2.0)\n",
      "Requirement already satisfied: cycler>=0.10 in c:\\users\\sanoo\\anaconda3\\lib\\site-packages (from matplotlib<=3.10,>=3.5->ydata_profiling) (0.11.0)\n",
      "Requirement already satisfied: fonttools>=4.22.0 in c:\\users\\sanoo\\anaconda3\\lib\\site-packages (from matplotlib<=3.10,>=3.5->ydata_profiling) (4.51.0)\n",
      "Requirement already satisfied: kiwisolver>=1.3.1 in c:\\users\\sanoo\\anaconda3\\lib\\site-packages (from matplotlib<=3.10,>=3.5->ydata_profiling) (1.4.4)\n",
      "Requirement already satisfied: packaging>=20.0 in c:\\users\\sanoo\\anaconda3\\lib\\site-packages (from matplotlib<=3.10,>=3.5->ydata_profiling) (23.2)\n",
      "Requirement already satisfied: pyparsing>=2.3.1 in c:\\users\\sanoo\\anaconda3\\lib\\site-packages (from matplotlib<=3.10,>=3.5->ydata_profiling) (3.0.9)\n",
      "Requirement already satisfied: python-dateutil>=2.7 in c:\\users\\sanoo\\anaconda3\\lib\\site-packages (from matplotlib<=3.10,>=3.5->ydata_profiling) (2.9.0.post0)\n",
      "Requirement already satisfied: llvmlite<0.43,>=0.42.0dev0 in c:\\users\\sanoo\\anaconda3\\lib\\site-packages (from numba<=0.61,>=0.56.0->ydata_profiling) (0.42.0)\n",
      "Requirement already satisfied: pytz>=2020.1 in c:\\users\\sanoo\\anaconda3\\lib\\site-packages (from pandas!=1.4.0,<3.0,>1.1->ydata_profiling) (2024.1)\n",
      "Requirement already satisfied: tzdata>=2022.7 in c:\\users\\sanoo\\anaconda3\\lib\\site-packages (from pandas!=1.4.0,<3.0,>1.1->ydata_profiling) (2023.3)\n",
      "Requirement already satisfied: joblib>=0.14.1 in c:\\users\\sanoo\\anaconda3\\lib\\site-packages (from phik<0.13,>=0.11.1->ydata_profiling) (1.4.2)\n",
      "Requirement already satisfied: annotated-types>=0.4.0 in c:\\users\\sanoo\\anaconda3\\lib\\site-packages (from pydantic>=2->ydata_profiling) (0.6.0)\n",
      "Requirement already satisfied: pydantic-core==2.14.6 in c:\\users\\sanoo\\anaconda3\\lib\\site-packages (from pydantic>=2->ydata_profiling) (2.14.6)\n",
      "Requirement already satisfied: typing-extensions>=4.6.1 in c:\\users\\sanoo\\anaconda3\\lib\\site-packages (from pydantic>=2->ydata_profiling) (4.14.0)\n",
      "Requirement already satisfied: charset-normalizer<4,>=2 in c:\\users\\sanoo\\anaconda3\\lib\\site-packages (from requests<3,>=2.24.0->ydata_profiling) (2.0.4)\n",
      "Requirement already satisfied: idna<4,>=2.5 in c:\\users\\sanoo\\anaconda3\\lib\\site-packages (from requests<3,>=2.24.0->ydata_profiling) (3.7)\n",
      "Requirement already satisfied: urllib3<3,>=1.21.1 in c:\\users\\sanoo\\anaconda3\\lib\\site-packages (from requests<3,>=2.24.0->ydata_profiling) (2.2.2)\n",
      "Requirement already satisfied: certifi>=2017.4.17 in c:\\users\\sanoo\\anaconda3\\lib\\site-packages (from requests<3,>=2.24.0->ydata_profiling) (2024.8.30)\n",
      "Requirement already satisfied: patsy>=0.5.6 in c:\\users\\sanoo\\anaconda3\\lib\\site-packages (from statsmodels<1,>=0.13.2->ydata_profiling) (0.5.6)\n",
      "Requirement already satisfied: colorama in c:\\users\\sanoo\\anaconda3\\lib\\site-packages (from tqdm<5,>=4.48.2->ydata_profiling) (0.4.6)\n",
      "Requirement already satisfied: attrs>=19.3.0 in c:\\users\\sanoo\\anaconda3\\lib\\site-packages (from visions<0.8.2,>=0.7.5->visions[type_image_path]<0.8.2,>=0.7.5->ydata_profiling) (23.1.0)\n",
      "Requirement already satisfied: networkx>=2.4 in c:\\users\\sanoo\\anaconda3\\lib\\site-packages (from visions<0.8.2,>=0.7.5->visions[type_image_path]<0.8.2,>=0.7.5->ydata_profiling) (3.2.1)\n",
      "Requirement already satisfied: puremagic in c:\\users\\sanoo\\anaconda3\\lib\\site-packages (from visions<0.8.2,>=0.7.5->visions[type_image_path]<0.8.2,>=0.7.5->ydata_profiling) (1.29)\n",
      "Requirement already satisfied: six in c:\\users\\sanoo\\anaconda3\\lib\\site-packages (from patsy>=0.5.6->statsmodels<1,>=0.13.2->ydata_profiling) (1.16.0)\n"
     ]
    }
   ],
   "source": [
    "!pip install ydata_profiling"
   ]
  },
  {
   "cell_type": "code",
   "execution_count": 52,
   "id": "4b56010e-0f55-4f9c-9972-2a574247413f",
   "metadata": {},
   "outputs": [
    {
     "data": {
      "text/html": [
       "\n",
       "            <div>\n",
       "                <ins><a href=\"https://ydata.ai/register\">Upgrade to ydata-sdk</a></ins>\n",
       "                <p>\n",
       "                    Improve your data and profiling with ydata-sdk, featuring data quality scoring, redundancy detection, outlier identification, text validation, and synthetic data generation.\n",
       "                </p>\n",
       "            </div>\n",
       "            "
      ],
      "text/plain": [
       "<IPython.core.display.HTML object>"
      ]
     },
     "metadata": {},
     "output_type": "display_data"
    },
    {
     "data": {
      "application/vnd.jupyter.widget-view+json": {
       "model_id": "956099efc26c42cc95a055fd322b1ba8",
       "version_major": 2,
       "version_minor": 0
      },
      "text/plain": [
       "Summarize dataset:   0%|          | 0/5 [00:00<?, ?it/s]"
      ]
     },
     "metadata": {},
     "output_type": "display_data"
    },
    {
     "name": "stderr",
     "output_type": "stream",
     "text": [
      "\n",
      "  0%|                                                                                           | 0/33 [00:00<?, ?it/s]\u001b[A\n",
      "  3%|██▌                                                                                | 1/33 [00:00<00:23,  1.34it/s]\u001b[A\n",
      " 21%|█████████████████▌                                                                 | 7/33 [00:00<00:02, 10.38it/s]\u001b[A\n",
      " 30%|████████████████████████▊                                                         | 10/33 [00:01<00:01, 12.12it/s]\u001b[A\n",
      " 39%|████████████████████████████████▎                                                 | 13/33 [00:01<00:01, 14.60it/s]\u001b[A\n",
      " 48%|███████████████████████████████████████▊                                          | 16/33 [00:01<00:01, 14.38it/s]\u001b[A\n",
      " 61%|█████████████████████████████████████████████████▋                                | 20/33 [00:01<00:00, 16.37it/s]\u001b[A\n",
      " 73%|███████████████████████████████████████████████████████████▋                      | 24/33 [00:01<00:00, 16.36it/s]\u001b[A\n",
      " 79%|████████████████████████████████████████████████████████████████▌                 | 26/33 [00:02<00:00, 10.25it/s]\u001b[A\n",
      " 85%|█████████████████████████████████████████████████████████████████████▌            | 28/33 [00:03<00:00,  5.85it/s]\u001b[A\n",
      " 91%|██████████████████████████████████████████████████████████████████████████▌       | 30/33 [00:03<00:00,  6.97it/s]\u001b[A\n",
      "100%|██████████████████████████████████████████████████████████████████████████████████| 33/33 [00:03<00:00,  9.68it/s]\u001b[A\n"
     ]
    },
    {
     "data": {
      "application/vnd.jupyter.widget-view+json": {
       "model_id": "eb3aa4612fcc453982dc2641b831a696",
       "version_major": 2,
       "version_minor": 0
      },
      "text/plain": [
       "Generate report structure:   0%|          | 0/1 [00:00<?, ?it/s]"
      ]
     },
     "metadata": {},
     "output_type": "display_data"
    },
    {
     "data": {
      "application/vnd.jupyter.widget-view+json": {
       "model_id": "794394114b4843a282987723f4367e34",
       "version_major": 2,
       "version_minor": 0
      },
      "text/plain": [
       "Render HTML:   0%|          | 0/1 [00:00<?, ?it/s]"
      ]
     },
     "metadata": {},
     "output_type": "display_data"
    },
    {
     "data": {
      "application/vnd.jupyter.widget-view+json": {
       "model_id": "830013df5f794fe1ba71b762351f3c88",
       "version_major": 2,
       "version_minor": 0
      },
      "text/plain": [
       "Export report to file:   0%|          | 0/1 [00:00<?, ?it/s]"
      ]
     },
     "metadata": {},
     "output_type": "display_data"
    }
   ],
   "source": [
    "from ydata_profiling import ProfileReport\n",
    "reports=ProfileReport(all_data)\n",
    "reports.to_file(output_file='output.html')"
   ]
  },
  {
   "cell_type": "code",
   "execution_count": 53,
   "id": "f9a1d93a-090d-4ea5-ba24-5bea0ac5f917",
   "metadata": {},
   "outputs": [],
   "source": [
    "train = all_data[all_data['data']=='train']\n",
    "test = all_data[all_data['data']=='test']"
   ]
  },
  {
   "cell_type": "code",
   "execution_count": 54,
   "id": "77e2965d-ecda-49bb-a4fc-681906d13390",
   "metadata": {},
   "outputs": [
    {
     "data": {
      "text/plain": [
       "(227845, 33)"
      ]
     },
     "execution_count": 54,
     "metadata": {},
     "output_type": "execute_result"
    }
   ],
   "source": [
    "train.shape"
   ]
  },
  {
   "cell_type": "code",
   "execution_count": 55,
   "id": "f2fcdd0d-5c09-4640-8b2f-cc227029f6fb",
   "metadata": {},
   "outputs": [
    {
     "data": {
      "text/plain": [
       "(56962, 33)"
      ]
     },
     "execution_count": 55,
     "metadata": {},
     "output_type": "execute_result"
    }
   ],
   "source": [
    "test.shape\n"
   ]
  },
  {
   "cell_type": "code",
   "execution_count": 56,
   "id": "4b64c3b3-619e-4f80-8fbe-be596456b30c",
   "metadata": {},
   "outputs": [
    {
     "data": {
      "text/plain": [
       "Index(['id', 'Group', 'Per1', 'Per2', 'Per3', 'Per4', 'Per5', 'Per6', 'Per7',\n",
       "       'Per8', 'Per9', 'Dem1', 'Dem2', 'Dem3', 'Dem4', 'Dem5', 'Dem6', 'Dem7',\n",
       "       'Dem8', 'Dem9', 'Cred1', 'Cred2', 'Cred3', 'Cred4', 'Cred5', 'Cred6',\n",
       "       'Normalised_FNT', 'Target', 'data', 'lambda_wt', 'geo_score',\n",
       "       'instance_scores', 'qsets_normalized_tat'],\n",
       "      dtype='object')"
      ]
     },
     "execution_count": 56,
     "metadata": {},
     "output_type": "execute_result"
    }
   ],
   "source": [
    "test.columns"
   ]
  },
  {
   "cell_type": "code",
   "execution_count": 57,
   "id": "3a88ae21-8f7b-4a2f-bd55-039ff8d7e184",
   "metadata": {},
   "outputs": [],
   "source": [
    "train = train.drop(['id','data'],axis=1) # Building a model\n",
    "test = test.drop(['id','data'],axis=1) # Prediction and final result\n"
   ]
  },
  {
   "cell_type": "code",
   "execution_count": 58,
   "id": "f1ddf9f2-3990-4e8d-a1a2-978640bc92de",
   "metadata": {},
   "outputs": [
    {
     "data": {
      "text/plain": [
       "Group                       0\n",
       "Per1                        0\n",
       "Per2                        0\n",
       "Per3                        0\n",
       "Per4                        0\n",
       "Per5                        0\n",
       "Per6                        0\n",
       "Per7                        0\n",
       "Per8                        0\n",
       "Per9                        0\n",
       "Dem1                        0\n",
       "Dem2                        0\n",
       "Dem3                        0\n",
       "Dem4                        0\n",
       "Dem5                        0\n",
       "Dem6                        0\n",
       "Dem7                        0\n",
       "Dem8                        0\n",
       "Dem9                        0\n",
       "Cred1                       0\n",
       "Cred2                       0\n",
       "Cred3                       0\n",
       "Cred4                       0\n",
       "Cred5                       0\n",
       "Cred6                       0\n",
       "Normalised_FNT              0\n",
       "Target                  56962\n",
       "lambda_wt                   0\n",
       "geo_score                   0\n",
       "instance_scores             0\n",
       "qsets_normalized_tat        0\n",
       "dtype: int64"
      ]
     },
     "execution_count": 58,
     "metadata": {},
     "output_type": "execute_result"
    }
   ],
   "source": [
    "test.isnull().sum()"
   ]
  },
  {
   "cell_type": "code",
   "execution_count": 59,
   "id": "5c87e2a1-ba99-4660-9f23-fd13ead102aa",
   "metadata": {},
   "outputs": [
    {
     "data": {
      "text/plain": [
       "Index(['Group', 'Per1', 'Per2', 'Per3', 'Per4', 'Per5', 'Per6', 'Per7', 'Per8',\n",
       "       'Per9', 'Dem1', 'Dem2', 'Dem3', 'Dem4', 'Dem5', 'Dem6', 'Dem7', 'Dem8',\n",
       "       'Dem9', 'Cred1', 'Cred2', 'Cred3', 'Cred4', 'Cred5', 'Cred6',\n",
       "       'Normalised_FNT', 'lambda_wt', 'geo_score', 'instance_scores',\n",
       "       'qsets_normalized_tat'],\n",
       "      dtype='object')"
      ]
     },
     "execution_count": 59,
     "metadata": {},
     "output_type": "execute_result"
    }
   ],
   "source": [
    "test = test.drop(['Target'], axis=1)\n",
    "test.columns"
   ]
  },
  {
   "cell_type": "code",
   "execution_count": 60,
   "id": "eab42c85-58c1-4141-bcf3-b7ca07a1489e",
   "metadata": {},
   "outputs": [],
   "source": [
    "unseen_test_data = test.copy()"
   ]
  },
  {
   "cell_type": "code",
   "execution_count": 61,
   "id": "fee8e538-1113-4c6f-bcdc-61b45e4ff1a4",
   "metadata": {},
   "outputs": [
    {
     "data": {
      "text/plain": [
       "227845    277\n",
       "227846    180\n",
       "227847    231\n",
       "227848    485\n",
       "227849    504\n",
       "         ... \n",
       "284802     11\n",
       "284803    569\n",
       "284804    765\n",
       "284805    163\n",
       "284806    222\n",
       "Name: Group, Length: 56962, dtype: int16"
      ]
     },
     "execution_count": 61,
     "metadata": {},
     "output_type": "execute_result"
    }
   ],
   "source": [
    "unseen_test_data['Group'] = unseen_test_data['Group'].astype('category')\n",
    "unseen_test_data['Group'] = unseen_test_data['Group'].cat.codes\n",
    "unseen_test_data['Group']"
   ]
  },
  {
   "cell_type": "code",
   "execution_count": 62,
   "id": "1df9e949-377f-4640-83c4-80621696efa8",
   "metadata": {},
   "outputs": [
    {
     "data": {
      "text/plain": [
       "Group                   0\n",
       "Per1                    0\n",
       "Per2                    0\n",
       "Per3                    0\n",
       "Per4                    0\n",
       "Per5                    0\n",
       "Per6                    0\n",
       "Per7                    0\n",
       "Per8                    0\n",
       "Per9                    0\n",
       "Dem1                    0\n",
       "Dem2                    0\n",
       "Dem3                    0\n",
       "Dem4                    0\n",
       "Dem5                    0\n",
       "Dem6                    0\n",
       "Dem7                    0\n",
       "Dem8                    0\n",
       "Dem9                    0\n",
       "Cred1                   0\n",
       "Cred2                   0\n",
       "Cred3                   0\n",
       "Cred4                   0\n",
       "Cred5                   0\n",
       "Cred6                   0\n",
       "Normalised_FNT          0\n",
       "Target                  0\n",
       "lambda_wt               0\n",
       "geo_score               0\n",
       "instance_scores         0\n",
       "qsets_normalized_tat    0\n",
       "dtype: int64"
      ]
     },
     "execution_count": 62,
     "metadata": {},
     "output_type": "execute_result"
    }
   ],
   "source": [
    "train.isnull().sum()"
   ]
  },
  {
   "cell_type": "code",
   "execution_count": 63,
   "id": "17a87900-43ae-4505-b5d4-92d990a71aa8",
   "metadata": {},
   "outputs": [],
   "source": [
    "train['Group'] = train['Group'].astype('category')\n",
    "train['Group'] = train['Group'].cat.codes"
   ]
  },
  {
   "cell_type": "code",
   "execution_count": 64,
   "id": "ab0b728b-a934-46c7-8d2a-e1f6296204f3",
   "metadata": {},
   "outputs": [],
   "source": [
    "# split the data into ind and dep variable\n",
    "x = train.drop(['Target'], axis=1)\n",
    "y = train['Target']"
   ]
  },
  {
   "cell_type": "code",
   "execution_count": 65,
   "id": "907639e2-0ae4-4edd-b718-a81c37be81a3",
   "metadata": {},
   "outputs": [
    {
     "data": {
      "text/plain": [
       "Target\n",
       "0.0    0.998271\n",
       "1.0    0.001729\n",
       "Name: proportion, dtype: float64"
      ]
     },
     "execution_count": 65,
     "metadata": {},
     "output_type": "execute_result"
    }
   ],
   "source": [
    "y.value_counts(normalize=True)"
   ]
  },
  {
   "cell_type": "code",
   "execution_count": 66,
   "id": "49d7833c-7980-4c53-bbee-d7808af04cf1",
   "metadata": {},
   "outputs": [
    {
     "data": {
      "text/plain": [
       "Target\n",
       "0.0    227451\n",
       "1.0       394\n",
       "Name: count, dtype: int64"
      ]
     },
     "execution_count": 66,
     "metadata": {},
     "output_type": "execute_result"
    }
   ],
   "source": [
    "train['Target'].value_counts()"
   ]
  },
  {
   "cell_type": "code",
   "execution_count": 67,
   "id": "7958a8a9-fe03-4ef8-98a7-8383f430aea9",
   "metadata": {},
   "outputs": [
    {
     "data": {
      "text/plain": [
       "227057"
      ]
     },
     "execution_count": 67,
     "metadata": {},
     "output_type": "execute_result"
    }
   ],
   "source": [
    "227451-394"
   ]
  },
  {
   "cell_type": "code",
   "execution_count": 68,
   "id": "6e995832-875e-4864-914c-c26910a0de3d",
   "metadata": {},
   "outputs": [],
   "source": [
    "# split the data into training and testing\n",
    "x_train, x_test, y_train, y_test = train_test_split(x,y, test_size=0.2, random_state=101,stratify=y)"
   ]
  },
  {
   "cell_type": "code",
   "execution_count": 69,
   "id": "923a1cae-e737-4b65-80be-4a2836fe3b06",
   "metadata": {},
   "outputs": [
    {
     "data": {
      "text/plain": [
       "Target\n",
       "0.0    181961\n",
       "1.0       315\n",
       "Name: count, dtype: int64"
      ]
     },
     "execution_count": 69,
     "metadata": {},
     "output_type": "execute_result"
    }
   ],
   "source": [
    "y_train.value_counts()"
   ]
  },
  {
   "cell_type": "code",
   "execution_count": 70,
   "id": "c9ad42c4-437d-44a6-a754-b8e9edb58f47",
   "metadata": {},
   "outputs": [
    {
     "data": {
      "text/plain": [
       "Target\n",
       "0.0    45490\n",
       "1.0       79\n",
       "Name: count, dtype: int64"
      ]
     },
     "execution_count": 70,
     "metadata": {},
     "output_type": "execute_result"
    }
   ],
   "source": [
    "y_test.value_counts()"
   ]
  },
  {
   "cell_type": "code",
   "execution_count": 71,
   "id": "4f811524-fa8e-440b-bcd1-7c10d660f85b",
   "metadata": {},
   "outputs": [
    {
     "data": {
      "text/html": [
       "<style>#sk-container-id-1 {\n",
       "  /* Definition of color scheme common for light and dark mode */\n",
       "  --sklearn-color-text: black;\n",
       "  --sklearn-color-line: gray;\n",
       "  /* Definition of color scheme for unfitted estimators */\n",
       "  --sklearn-color-unfitted-level-0: #fff5e6;\n",
       "  --sklearn-color-unfitted-level-1: #f6e4d2;\n",
       "  --sklearn-color-unfitted-level-2: #ffe0b3;\n",
       "  --sklearn-color-unfitted-level-3: chocolate;\n",
       "  /* Definition of color scheme for fitted estimators */\n",
       "  --sklearn-color-fitted-level-0: #f0f8ff;\n",
       "  --sklearn-color-fitted-level-1: #d4ebff;\n",
       "  --sklearn-color-fitted-level-2: #b3dbfd;\n",
       "  --sklearn-color-fitted-level-3: cornflowerblue;\n",
       "\n",
       "  /* Specific color for light theme */\n",
       "  --sklearn-color-text-on-default-background: var(--sg-text-color, var(--theme-code-foreground, var(--jp-content-font-color1, black)));\n",
       "  --sklearn-color-background: var(--sg-background-color, var(--theme-background, var(--jp-layout-color0, white)));\n",
       "  --sklearn-color-border-box: var(--sg-text-color, var(--theme-code-foreground, var(--jp-content-font-color1, black)));\n",
       "  --sklearn-color-icon: #696969;\n",
       "\n",
       "  @media (prefers-color-scheme: dark) {\n",
       "    /* Redefinition of color scheme for dark theme */\n",
       "    --sklearn-color-text-on-default-background: var(--sg-text-color, var(--theme-code-foreground, var(--jp-content-font-color1, white)));\n",
       "    --sklearn-color-background: var(--sg-background-color, var(--theme-background, var(--jp-layout-color0, #111)));\n",
       "    --sklearn-color-border-box: var(--sg-text-color, var(--theme-code-foreground, var(--jp-content-font-color1, white)));\n",
       "    --sklearn-color-icon: #878787;\n",
       "  }\n",
       "}\n",
       "\n",
       "#sk-container-id-1 {\n",
       "  color: var(--sklearn-color-text);\n",
       "}\n",
       "\n",
       "#sk-container-id-1 pre {\n",
       "  padding: 0;\n",
       "}\n",
       "\n",
       "#sk-container-id-1 input.sk-hidden--visually {\n",
       "  border: 0;\n",
       "  clip: rect(1px 1px 1px 1px);\n",
       "  clip: rect(1px, 1px, 1px, 1px);\n",
       "  height: 1px;\n",
       "  margin: -1px;\n",
       "  overflow: hidden;\n",
       "  padding: 0;\n",
       "  position: absolute;\n",
       "  width: 1px;\n",
       "}\n",
       "\n",
       "#sk-container-id-1 div.sk-dashed-wrapped {\n",
       "  border: 1px dashed var(--sklearn-color-line);\n",
       "  margin: 0 0.4em 0.5em 0.4em;\n",
       "  box-sizing: border-box;\n",
       "  padding-bottom: 0.4em;\n",
       "  background-color: var(--sklearn-color-background);\n",
       "}\n",
       "\n",
       "#sk-container-id-1 div.sk-container {\n",
       "  /* jupyter's `normalize.less` sets `[hidden] { display: none; }`\n",
       "     but bootstrap.min.css set `[hidden] { display: none !important; }`\n",
       "     so we also need the `!important` here to be able to override the\n",
       "     default hidden behavior on the sphinx rendered scikit-learn.org.\n",
       "     See: https://github.com/scikit-learn/scikit-learn/issues/21755 */\n",
       "  display: inline-block !important;\n",
       "  position: relative;\n",
       "}\n",
       "\n",
       "#sk-container-id-1 div.sk-text-repr-fallback {\n",
       "  display: none;\n",
       "}\n",
       "\n",
       "div.sk-parallel-item,\n",
       "div.sk-serial,\n",
       "div.sk-item {\n",
       "  /* draw centered vertical line to link estimators */\n",
       "  background-image: linear-gradient(var(--sklearn-color-text-on-default-background), var(--sklearn-color-text-on-default-background));\n",
       "  background-size: 2px 100%;\n",
       "  background-repeat: no-repeat;\n",
       "  background-position: center center;\n",
       "}\n",
       "\n",
       "/* Parallel-specific style estimator block */\n",
       "\n",
       "#sk-container-id-1 div.sk-parallel-item::after {\n",
       "  content: \"\";\n",
       "  width: 100%;\n",
       "  border-bottom: 2px solid var(--sklearn-color-text-on-default-background);\n",
       "  flex-grow: 1;\n",
       "}\n",
       "\n",
       "#sk-container-id-1 div.sk-parallel {\n",
       "  display: flex;\n",
       "  align-items: stretch;\n",
       "  justify-content: center;\n",
       "  background-color: var(--sklearn-color-background);\n",
       "  position: relative;\n",
       "}\n",
       "\n",
       "#sk-container-id-1 div.sk-parallel-item {\n",
       "  display: flex;\n",
       "  flex-direction: column;\n",
       "}\n",
       "\n",
       "#sk-container-id-1 div.sk-parallel-item:first-child::after {\n",
       "  align-self: flex-end;\n",
       "  width: 50%;\n",
       "}\n",
       "\n",
       "#sk-container-id-1 div.sk-parallel-item:last-child::after {\n",
       "  align-self: flex-start;\n",
       "  width: 50%;\n",
       "}\n",
       "\n",
       "#sk-container-id-1 div.sk-parallel-item:only-child::after {\n",
       "  width: 0;\n",
       "}\n",
       "\n",
       "/* Serial-specific style estimator block */\n",
       "\n",
       "#sk-container-id-1 div.sk-serial {\n",
       "  display: flex;\n",
       "  flex-direction: column;\n",
       "  align-items: center;\n",
       "  background-color: var(--sklearn-color-background);\n",
       "  padding-right: 1em;\n",
       "  padding-left: 1em;\n",
       "}\n",
       "\n",
       "\n",
       "/* Toggleable style: style used for estimator/Pipeline/ColumnTransformer box that is\n",
       "clickable and can be expanded/collapsed.\n",
       "- Pipeline and ColumnTransformer use this feature and define the default style\n",
       "- Estimators will overwrite some part of the style using the `sk-estimator` class\n",
       "*/\n",
       "\n",
       "/* Pipeline and ColumnTransformer style (default) */\n",
       "\n",
       "#sk-container-id-1 div.sk-toggleable {\n",
       "  /* Default theme specific background. It is overwritten whether we have a\n",
       "  specific estimator or a Pipeline/ColumnTransformer */\n",
       "  background-color: var(--sklearn-color-background);\n",
       "}\n",
       "\n",
       "/* Toggleable label */\n",
       "#sk-container-id-1 label.sk-toggleable__label {\n",
       "  cursor: pointer;\n",
       "  display: block;\n",
       "  width: 100%;\n",
       "  margin-bottom: 0;\n",
       "  padding: 0.5em;\n",
       "  box-sizing: border-box;\n",
       "  text-align: center;\n",
       "}\n",
       "\n",
       "#sk-container-id-1 label.sk-toggleable__label-arrow:before {\n",
       "  /* Arrow on the left of the label */\n",
       "  content: \"▸\";\n",
       "  float: left;\n",
       "  margin-right: 0.25em;\n",
       "  color: var(--sklearn-color-icon);\n",
       "}\n",
       "\n",
       "#sk-container-id-1 label.sk-toggleable__label-arrow:hover:before {\n",
       "  color: var(--sklearn-color-text);\n",
       "}\n",
       "\n",
       "/* Toggleable content - dropdown */\n",
       "\n",
       "#sk-container-id-1 div.sk-toggleable__content {\n",
       "  max-height: 0;\n",
       "  max-width: 0;\n",
       "  overflow: hidden;\n",
       "  text-align: left;\n",
       "  /* unfitted */\n",
       "  background-color: var(--sklearn-color-unfitted-level-0);\n",
       "}\n",
       "\n",
       "#sk-container-id-1 div.sk-toggleable__content.fitted {\n",
       "  /* fitted */\n",
       "  background-color: var(--sklearn-color-fitted-level-0);\n",
       "}\n",
       "\n",
       "#sk-container-id-1 div.sk-toggleable__content pre {\n",
       "  margin: 0.2em;\n",
       "  border-radius: 0.25em;\n",
       "  color: var(--sklearn-color-text);\n",
       "  /* unfitted */\n",
       "  background-color: var(--sklearn-color-unfitted-level-0);\n",
       "}\n",
       "\n",
       "#sk-container-id-1 div.sk-toggleable__content.fitted pre {\n",
       "  /* unfitted */\n",
       "  background-color: var(--sklearn-color-fitted-level-0);\n",
       "}\n",
       "\n",
       "#sk-container-id-1 input.sk-toggleable__control:checked~div.sk-toggleable__content {\n",
       "  /* Expand drop-down */\n",
       "  max-height: 200px;\n",
       "  max-width: 100%;\n",
       "  overflow: auto;\n",
       "}\n",
       "\n",
       "#sk-container-id-1 input.sk-toggleable__control:checked~label.sk-toggleable__label-arrow:before {\n",
       "  content: \"▾\";\n",
       "}\n",
       "\n",
       "/* Pipeline/ColumnTransformer-specific style */\n",
       "\n",
       "#sk-container-id-1 div.sk-label input.sk-toggleable__control:checked~label.sk-toggleable__label {\n",
       "  color: var(--sklearn-color-text);\n",
       "  background-color: var(--sklearn-color-unfitted-level-2);\n",
       "}\n",
       "\n",
       "#sk-container-id-1 div.sk-label.fitted input.sk-toggleable__control:checked~label.sk-toggleable__label {\n",
       "  background-color: var(--sklearn-color-fitted-level-2);\n",
       "}\n",
       "\n",
       "/* Estimator-specific style */\n",
       "\n",
       "/* Colorize estimator box */\n",
       "#sk-container-id-1 div.sk-estimator input.sk-toggleable__control:checked~label.sk-toggleable__label {\n",
       "  /* unfitted */\n",
       "  background-color: var(--sklearn-color-unfitted-level-2);\n",
       "}\n",
       "\n",
       "#sk-container-id-1 div.sk-estimator.fitted input.sk-toggleable__control:checked~label.sk-toggleable__label {\n",
       "  /* fitted */\n",
       "  background-color: var(--sklearn-color-fitted-level-2);\n",
       "}\n",
       "\n",
       "#sk-container-id-1 div.sk-label label.sk-toggleable__label,\n",
       "#sk-container-id-1 div.sk-label label {\n",
       "  /* The background is the default theme color */\n",
       "  color: var(--sklearn-color-text-on-default-background);\n",
       "}\n",
       "\n",
       "/* On hover, darken the color of the background */\n",
       "#sk-container-id-1 div.sk-label:hover label.sk-toggleable__label {\n",
       "  color: var(--sklearn-color-text);\n",
       "  background-color: var(--sklearn-color-unfitted-level-2);\n",
       "}\n",
       "\n",
       "/* Label box, darken color on hover, fitted */\n",
       "#sk-container-id-1 div.sk-label.fitted:hover label.sk-toggleable__label.fitted {\n",
       "  color: var(--sklearn-color-text);\n",
       "  background-color: var(--sklearn-color-fitted-level-2);\n",
       "}\n",
       "\n",
       "/* Estimator label */\n",
       "\n",
       "#sk-container-id-1 div.sk-label label {\n",
       "  font-family: monospace;\n",
       "  font-weight: bold;\n",
       "  display: inline-block;\n",
       "  line-height: 1.2em;\n",
       "}\n",
       "\n",
       "#sk-container-id-1 div.sk-label-container {\n",
       "  text-align: center;\n",
       "}\n",
       "\n",
       "/* Estimator-specific */\n",
       "#sk-container-id-1 div.sk-estimator {\n",
       "  font-family: monospace;\n",
       "  border: 1px dotted var(--sklearn-color-border-box);\n",
       "  border-radius: 0.25em;\n",
       "  box-sizing: border-box;\n",
       "  margin-bottom: 0.5em;\n",
       "  /* unfitted */\n",
       "  background-color: var(--sklearn-color-unfitted-level-0);\n",
       "}\n",
       "\n",
       "#sk-container-id-1 div.sk-estimator.fitted {\n",
       "  /* fitted */\n",
       "  background-color: var(--sklearn-color-fitted-level-0);\n",
       "}\n",
       "\n",
       "/* on hover */\n",
       "#sk-container-id-1 div.sk-estimator:hover {\n",
       "  /* unfitted */\n",
       "  background-color: var(--sklearn-color-unfitted-level-2);\n",
       "}\n",
       "\n",
       "#sk-container-id-1 div.sk-estimator.fitted:hover {\n",
       "  /* fitted */\n",
       "  background-color: var(--sklearn-color-fitted-level-2);\n",
       "}\n",
       "\n",
       "/* Specification for estimator info (e.g. \"i\" and \"?\") */\n",
       "\n",
       "/* Common style for \"i\" and \"?\" */\n",
       "\n",
       ".sk-estimator-doc-link,\n",
       "a:link.sk-estimator-doc-link,\n",
       "a:visited.sk-estimator-doc-link {\n",
       "  float: right;\n",
       "  font-size: smaller;\n",
       "  line-height: 1em;\n",
       "  font-family: monospace;\n",
       "  background-color: var(--sklearn-color-background);\n",
       "  border-radius: 1em;\n",
       "  height: 1em;\n",
       "  width: 1em;\n",
       "  text-decoration: none !important;\n",
       "  margin-left: 1ex;\n",
       "  /* unfitted */\n",
       "  border: var(--sklearn-color-unfitted-level-1) 1pt solid;\n",
       "  color: var(--sklearn-color-unfitted-level-1);\n",
       "}\n",
       "\n",
       ".sk-estimator-doc-link.fitted,\n",
       "a:link.sk-estimator-doc-link.fitted,\n",
       "a:visited.sk-estimator-doc-link.fitted {\n",
       "  /* fitted */\n",
       "  border: var(--sklearn-color-fitted-level-1) 1pt solid;\n",
       "  color: var(--sklearn-color-fitted-level-1);\n",
       "}\n",
       "\n",
       "/* On hover */\n",
       "div.sk-estimator:hover .sk-estimator-doc-link:hover,\n",
       ".sk-estimator-doc-link:hover,\n",
       "div.sk-label-container:hover .sk-estimator-doc-link:hover,\n",
       ".sk-estimator-doc-link:hover {\n",
       "  /* unfitted */\n",
       "  background-color: var(--sklearn-color-unfitted-level-3);\n",
       "  color: var(--sklearn-color-background);\n",
       "  text-decoration: none;\n",
       "}\n",
       "\n",
       "div.sk-estimator.fitted:hover .sk-estimator-doc-link.fitted:hover,\n",
       ".sk-estimator-doc-link.fitted:hover,\n",
       "div.sk-label-container:hover .sk-estimator-doc-link.fitted:hover,\n",
       ".sk-estimator-doc-link.fitted:hover {\n",
       "  /* fitted */\n",
       "  background-color: var(--sklearn-color-fitted-level-3);\n",
       "  color: var(--sklearn-color-background);\n",
       "  text-decoration: none;\n",
       "}\n",
       "\n",
       "/* Span, style for the box shown on hovering the info icon */\n",
       ".sk-estimator-doc-link span {\n",
       "  display: none;\n",
       "  z-index: 9999;\n",
       "  position: relative;\n",
       "  font-weight: normal;\n",
       "  right: .2ex;\n",
       "  padding: .5ex;\n",
       "  margin: .5ex;\n",
       "  width: min-content;\n",
       "  min-width: 20ex;\n",
       "  max-width: 50ex;\n",
       "  color: var(--sklearn-color-text);\n",
       "  box-shadow: 2pt 2pt 4pt #999;\n",
       "  /* unfitted */\n",
       "  background: var(--sklearn-color-unfitted-level-0);\n",
       "  border: .5pt solid var(--sklearn-color-unfitted-level-3);\n",
       "}\n",
       "\n",
       ".sk-estimator-doc-link.fitted span {\n",
       "  /* fitted */\n",
       "  background: var(--sklearn-color-fitted-level-0);\n",
       "  border: var(--sklearn-color-fitted-level-3);\n",
       "}\n",
       "\n",
       ".sk-estimator-doc-link:hover span {\n",
       "  display: block;\n",
       "}\n",
       "\n",
       "/* \"?\"-specific style due to the `<a>` HTML tag */\n",
       "\n",
       "#sk-container-id-1 a.estimator_doc_link {\n",
       "  float: right;\n",
       "  font-size: 1rem;\n",
       "  line-height: 1em;\n",
       "  font-family: monospace;\n",
       "  background-color: var(--sklearn-color-background);\n",
       "  border-radius: 1rem;\n",
       "  height: 1rem;\n",
       "  width: 1rem;\n",
       "  text-decoration: none;\n",
       "  /* unfitted */\n",
       "  color: var(--sklearn-color-unfitted-level-1);\n",
       "  border: var(--sklearn-color-unfitted-level-1) 1pt solid;\n",
       "}\n",
       "\n",
       "#sk-container-id-1 a.estimator_doc_link.fitted {\n",
       "  /* fitted */\n",
       "  border: var(--sklearn-color-fitted-level-1) 1pt solid;\n",
       "  color: var(--sklearn-color-fitted-level-1);\n",
       "}\n",
       "\n",
       "/* On hover */\n",
       "#sk-container-id-1 a.estimator_doc_link:hover {\n",
       "  /* unfitted */\n",
       "  background-color: var(--sklearn-color-unfitted-level-3);\n",
       "  color: var(--sklearn-color-background);\n",
       "  text-decoration: none;\n",
       "}\n",
       "\n",
       "#sk-container-id-1 a.estimator_doc_link.fitted:hover {\n",
       "  /* fitted */\n",
       "  background-color: var(--sklearn-color-fitted-level-3);\n",
       "}\n",
       "</style><div id=\"sk-container-id-1\" class=\"sk-top-container\"><div class=\"sk-text-repr-fallback\"><pre>RandomForestClassifier()</pre><b>In a Jupyter environment, please rerun this cell to show the HTML representation or trust the notebook. <br />On GitHub, the HTML representation is unable to render, please try loading this page with nbviewer.org.</b></div><div class=\"sk-container\" hidden><div class=\"sk-item\"><div class=\"sk-estimator fitted sk-toggleable\"><input class=\"sk-toggleable__control sk-hidden--visually\" id=\"sk-estimator-id-1\" type=\"checkbox\" checked><label for=\"sk-estimator-id-1\" class=\"sk-toggleable__label fitted sk-toggleable__label-arrow fitted\">&nbsp;&nbsp;RandomForestClassifier<a class=\"sk-estimator-doc-link fitted\" rel=\"noreferrer\" target=\"_blank\" href=\"https://scikit-learn.org/1.4/modules/generated/sklearn.ensemble.RandomForestClassifier.html\">?<span>Documentation for RandomForestClassifier</span></a><span class=\"sk-estimator-doc-link fitted\">i<span>Fitted</span></span></label><div class=\"sk-toggleable__content fitted\"><pre>RandomForestClassifier()</pre></div> </div></div></div></div>"
      ],
      "text/plain": [
       "RandomForestClassifier()"
      ]
     },
     "execution_count": 71,
     "metadata": {},
     "output_type": "execute_result"
    }
   ],
   "source": [
    "# Building Model\n",
    "from sklearn.ensemble import RandomForestClassifier\n",
    "rfmodel = RandomForestClassifier()\n",
    "rfmodel.fit(x_train, y_train)"
   ]
  },
  {
   "cell_type": "code",
   "execution_count": 72,
   "id": "fbab93ec-afe3-45f7-a46a-5a5b0a6feb7e",
   "metadata": {},
   "outputs": [],
   "source": [
    "y_pred_train = rfmodel.predict(x_train)\n",
    "y_pred_test = rfmodel.predict(x_test)"
   ]
  },
  {
   "cell_type": "code",
   "execution_count": 73,
   "id": "cb3feb7b-20c8-44f1-8c81-98bb79ca95be",
   "metadata": {},
   "outputs": [],
   "source": [
    "from sklearn.metrics import classification_report, accuracy_score"
   ]
  },
  {
   "cell_type": "code",
   "execution_count": 74,
   "id": "544ea13d-7fe4-46e4-bc6f-6306407d776b",
   "metadata": {},
   "outputs": [
    {
     "name": "stdout",
     "output_type": "stream",
     "text": [
      "              precision    recall  f1-score   support\n",
      "\n",
      "         0.0       1.00      1.00      1.00    181961\n",
      "         1.0       1.00      1.00      1.00       315\n",
      "\n",
      "    accuracy                           1.00    182276\n",
      "   macro avg       1.00      1.00      1.00    182276\n",
      "weighted avg       1.00      1.00      1.00    182276\n",
      "\n",
      "*****************\n",
      "              precision    recall  f1-score   support\n",
      "\n",
      "         0.0       1.00      1.00      1.00     45490\n",
      "         1.0       0.95      0.67      0.79        79\n",
      "\n",
      "    accuracy                           1.00     45569\n",
      "   macro avg       0.97      0.84      0.89     45569\n",
      "weighted avg       1.00      1.00      1.00     45569\n",
      "\n"
     ]
    }
   ],
   "source": [
    "print(classification_report(y_train, y_pred_train))\n",
    "print(\"*****************\")\n",
    "print(classification_report(y_test, y_pred_test))"
   ]
  },
  {
   "cell_type": "code",
   "execution_count": 75,
   "id": "399a077a-cf0a-49fd-b545-c6b3aedb681a",
   "metadata": {},
   "outputs": [
    {
     "name": "stdout",
     "output_type": "stream",
     "text": [
      "1.0\n",
      "*****************\n",
      "0.9993636024490333\n"
     ]
    }
   ],
   "source": [
    "print(accuracy_score(y_train, y_pred_train))\n",
    "print(\"*****************\")\n",
    "print(accuracy_score(y_test, y_pred_test))"
   ]
  },
  {
   "cell_type": "code",
   "execution_count": 76,
   "id": "6b4a0f36-0a1f-47ac-bbb8-cadbf0290ece",
   "metadata": {},
   "outputs": [],
   "source": [
    "# please do cross validation with train dataset"
   ]
  },
  {
   "cell_type": "code",
   "execution_count": 77,
   "id": "ffb97cf0-cce9-4c2b-9e66-f397dfb68e7d",
   "metadata": {},
   "outputs": [],
   "source": [
    "final_output = rfmodel.predict(unseen_test_data)"
   ]
  },
  {
   "cell_type": "code",
   "execution_count": 78,
   "id": "6f686d56-5cc8-4b43-8dfc-1a0755c49bab",
   "metadata": {},
   "outputs": [
    {
     "data": {
      "text/plain": [
       "array([0., 0., 0., ..., 0., 0., 0.])"
      ]
     },
     "execution_count": 78,
     "metadata": {},
     "output_type": "execute_result"
    }
   ],
   "source": [
    "final_output"
   ]
  },
  {
   "cell_type": "code",
   "execution_count": 79,
   "id": "1729e3af-9192-451c-bd03-d77c6fb47a6f",
   "metadata": {},
   "outputs": [
    {
     "data": {
      "text/plain": [
       "RangeIndex(start=0, stop=1, step=1)"
      ]
     },
     "execution_count": 79,
     "metadata": {},
     "output_type": "execute_result"
    }
   ],
   "source": [
    "final_output = pd.DataFrame(final_output)\n",
    "final_output.columns\n"
   ]
  },
  {
   "cell_type": "code",
   "execution_count": 80,
   "id": "bdb4b99f-1f48-4173-9b45-081d5f39ef0a",
   "metadata": {},
   "outputs": [
    {
     "data": {
      "text/plain": [
       "(56962, 30)"
      ]
     },
     "execution_count": 80,
     "metadata": {},
     "output_type": "execute_result"
    }
   ],
   "source": [
    "unseen_test_data.shape"
   ]
  },
  {
   "cell_type": "code",
   "execution_count": 81,
   "id": "7cd4bf59-b8f8-4f60-a2a1-a8513b15bef5",
   "metadata": {},
   "outputs": [
    {
     "data": {
      "text/plain": [
       "(56962, 1)"
      ]
     },
     "execution_count": 81,
     "metadata": {},
     "output_type": "execute_result"
    }
   ],
   "source": [
    "final_output.shape"
   ]
  },
  {
   "cell_type": "code",
   "execution_count": 82,
   "id": "95247d2d-dd78-42ec-8589-1e34372cb40d",
   "metadata": {},
   "outputs": [],
   "source": [
    "final_output.to_csv(\"Final_Target_Value.csv\")"
   ]
  },
  {
   "cell_type": "code",
   "execution_count": 83,
   "id": "25236233-9472-4ccd-85d7-7b84a1c398b4",
   "metadata": {},
   "outputs": [
    {
     "data": {
      "text/plain": [
       "0  \n",
       "0.0    56880\n",
       "1.0       82\n",
       "Name: count, dtype: int64"
      ]
     },
     "execution_count": 83,
     "metadata": {},
     "output_type": "execute_result"
    }
   ],
   "source": [
    "final_output.value_counts()"
   ]
  },
  {
   "cell_type": "code",
   "execution_count": 84,
   "id": "3903da9b-9a61-45d0-b544-9ce0b0e283fb",
   "metadata": {},
   "outputs": [],
   "source": [
    "y_pred_proba =rfmodel.predict_proba(x_test)[:, 1]\n",
    "\n"
   ]
  },
  {
   "cell_type": "code",
   "execution_count": 85,
   "id": "251bbe45-b012-47f7-8811-1f4f11f48029",
   "metadata": {},
   "outputs": [
    {
     "data": {
      "image/png": "[encoded data removed]",
      "text/plain": [
       "<Figure size 800x600 with 1 Axes>"
      ]
     },
     "metadata": {},
     "output_type": "display_data"
    }
   ],
   "source": [
    "from sklearn.metrics import roc_curve, auc\n",
    "import matplotlib.pyplot as plt\n",
    "\n",
    "fpr, tpr, thresholds = roc_curve(y_test, y_pred_proba)\n",
    "roc_auc = auc(fpr, tpr)\n",
    "\n",
    "plt.figure(figsize=(8, 6))\n",
    "plt.plot(fpr, tpr, color='blue', lw=2, label='ROC curve (AUC = %0.2f)' % roc_auc)\n",
    "plt.plot([0, 1], [0, 1], color='gray', lw=1, linestyle='--')\n",
    "plt.xlabel('False Positive Rate')\n",
    "plt.ylabel('True Positive Rate')\n",
    "plt.title('Receiver Operating Characteristic (ROC) Curve')\n",
    "plt.legend(loc=\"lower right\")\n",
    "plt.grid()\n",
    "plt.show()\n"
   ]
  },
  {
   "cell_type": "code",
   "execution_count": null,
   "id": "61247e78-f094-47f8-9114-662f1da3ac3a",
   "metadata": {},
   "outputs": [],
   "source": []
  },
  {
   "cell_type": "code",
   "execution_count": null,
   "id": "c4f67cb3-e4f9-467f-b756-831d13e587c5",
   "metadata": {},
   "outputs": [],
   "source": []
  }
 ],
 "metadata": {
  "kernelspec": {
   "display_name": "Python 3 (ipykernel)",
   "language": "python",
   "name": "python3"
  },
  "language_info": {
   "codemirror_mode": {
    "name": "ipython",
    "version": 3
   },
   "file_extension": ".py",
   "mimetype": "text/x-python",
   "name": "python",
   "nbconvert_exporter": "python",
   "pygments_lexer": "ipython3",
   "version": "3.12.4"
  }
 },
 "nbformat": 4,
 "nbformat_minor": 5
}
